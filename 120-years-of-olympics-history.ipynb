{
 "cells": [
  {
   "cell_type": "code",
   "execution_count": 66,
   "id": "cd400cae-3137-4d0f-bfb7-ff6ef880baff",
   "metadata": {},
   "outputs": [],
   "source": [
    "import pandas as pd\n",
    "import matplotlib.pyplot as plt\n",
    "import seaborn as sns\n",
    "import warnings"
   ]
  },
  {
   "cell_type": "code",
   "execution_count": 68,
   "id": "6d2b9bcd-08d7-4b82-84cc-c0097234ec70",
   "metadata": {},
   "outputs": [],
   "source": [
    "warnings.filterwarnings('ignore')"
   ]
  },
  {
   "cell_type": "code",
   "execution_count": 72,
   "id": "312d0bc7-984e-44bf-b08d-313c78a2d689",
   "metadata": {},
   "outputs": [],
   "source": [
    "data=pd.read_csv(\"athlete_events.csv\")"
   ]
  },
  {
   "cell_type": "code",
   "execution_count": 74,
   "id": "24bac00b-b54f-4da8-a1f0-55e4b8ede2b7",
   "metadata": {},
   "outputs": [
    {
     "data": {
      "text/html": [
       "<div>\n",
       "<style scoped>\n",
       "    .dataframe tbody tr th:only-of-type {\n",
       "        vertical-align: middle;\n",
       "    }\n",
       "\n",
       "    .dataframe tbody tr th {\n",
       "        vertical-align: top;\n",
       "    }\n",
       "\n",
       "    .dataframe thead th {\n",
       "        text-align: right;\n",
       "    }\n",
       "</style>\n",
       "<table border=\"1\" class=\"dataframe\">\n",
       "  <thead>\n",
       "    <tr style=\"text-align: right;\">\n",
       "      <th></th>\n",
       "      <th>ID</th>\n",
       "      <th>Name</th>\n",
       "      <th>Sex</th>\n",
       "      <th>Age</th>\n",
       "      <th>Height</th>\n",
       "      <th>Weight</th>\n",
       "      <th>Team</th>\n",
       "      <th>NOC</th>\n",
       "      <th>Games</th>\n",
       "      <th>Year</th>\n",
       "      <th>Season</th>\n",
       "      <th>City</th>\n",
       "      <th>Sport</th>\n",
       "      <th>Event</th>\n",
       "      <th>Medal</th>\n",
       "    </tr>\n",
       "  </thead>\n",
       "  <tbody>\n",
       "    <tr>\n",
       "      <th>0</th>\n",
       "      <td>1</td>\n",
       "      <td>A Dijiang</td>\n",
       "      <td>M</td>\n",
       "      <td>24.0</td>\n",
       "      <td>180.0</td>\n",
       "      <td>80.0</td>\n",
       "      <td>China</td>\n",
       "      <td>CHN</td>\n",
       "      <td>1992 Summer</td>\n",
       "      <td>1992</td>\n",
       "      <td>Summer</td>\n",
       "      <td>Barcelona</td>\n",
       "      <td>Basketball</td>\n",
       "      <td>Basketball Men's Basketball</td>\n",
       "      <td>NaN</td>\n",
       "    </tr>\n",
       "    <tr>\n",
       "      <th>1</th>\n",
       "      <td>2</td>\n",
       "      <td>A Lamusi</td>\n",
       "      <td>M</td>\n",
       "      <td>23.0</td>\n",
       "      <td>170.0</td>\n",
       "      <td>60.0</td>\n",
       "      <td>China</td>\n",
       "      <td>CHN</td>\n",
       "      <td>2012 Summer</td>\n",
       "      <td>2012</td>\n",
       "      <td>Summer</td>\n",
       "      <td>London</td>\n",
       "      <td>Judo</td>\n",
       "      <td>Judo Men's Extra-Lightweight</td>\n",
       "      <td>NaN</td>\n",
       "    </tr>\n",
       "    <tr>\n",
       "      <th>2</th>\n",
       "      <td>3</td>\n",
       "      <td>Gunnar Nielsen Aaby</td>\n",
       "      <td>M</td>\n",
       "      <td>24.0</td>\n",
       "      <td>NaN</td>\n",
       "      <td>NaN</td>\n",
       "      <td>Denmark</td>\n",
       "      <td>DEN</td>\n",
       "      <td>1920 Summer</td>\n",
       "      <td>1920</td>\n",
       "      <td>Summer</td>\n",
       "      <td>Antwerpen</td>\n",
       "      <td>Football</td>\n",
       "      <td>Football Men's Football</td>\n",
       "      <td>NaN</td>\n",
       "    </tr>\n",
       "    <tr>\n",
       "      <th>3</th>\n",
       "      <td>4</td>\n",
       "      <td>Edgar Lindenau Aabye</td>\n",
       "      <td>M</td>\n",
       "      <td>34.0</td>\n",
       "      <td>NaN</td>\n",
       "      <td>NaN</td>\n",
       "      <td>Denmark/Sweden</td>\n",
       "      <td>DEN</td>\n",
       "      <td>1900 Summer</td>\n",
       "      <td>1900</td>\n",
       "      <td>Summer</td>\n",
       "      <td>Paris</td>\n",
       "      <td>Tug-Of-War</td>\n",
       "      <td>Tug-Of-War Men's Tug-Of-War</td>\n",
       "      <td>Gold</td>\n",
       "    </tr>\n",
       "    <tr>\n",
       "      <th>4</th>\n",
       "      <td>5</td>\n",
       "      <td>Christine Jacoba Aaftink</td>\n",
       "      <td>F</td>\n",
       "      <td>21.0</td>\n",
       "      <td>185.0</td>\n",
       "      <td>82.0</td>\n",
       "      <td>Netherlands</td>\n",
       "      <td>NED</td>\n",
       "      <td>1988 Winter</td>\n",
       "      <td>1988</td>\n",
       "      <td>Winter</td>\n",
       "      <td>Calgary</td>\n",
       "      <td>Speed Skating</td>\n",
       "      <td>Speed Skating Women's 500 metres</td>\n",
       "      <td>NaN</td>\n",
       "    </tr>\n",
       "    <tr>\n",
       "      <th>...</th>\n",
       "      <td>...</td>\n",
       "      <td>...</td>\n",
       "      <td>...</td>\n",
       "      <td>...</td>\n",
       "      <td>...</td>\n",
       "      <td>...</td>\n",
       "      <td>...</td>\n",
       "      <td>...</td>\n",
       "      <td>...</td>\n",
       "      <td>...</td>\n",
       "      <td>...</td>\n",
       "      <td>...</td>\n",
       "      <td>...</td>\n",
       "      <td>...</td>\n",
       "      <td>...</td>\n",
       "    </tr>\n",
       "    <tr>\n",
       "      <th>271111</th>\n",
       "      <td>135569</td>\n",
       "      <td>Andrzej ya</td>\n",
       "      <td>M</td>\n",
       "      <td>29.0</td>\n",
       "      <td>179.0</td>\n",
       "      <td>89.0</td>\n",
       "      <td>Poland-1</td>\n",
       "      <td>POL</td>\n",
       "      <td>1976 Winter</td>\n",
       "      <td>1976</td>\n",
       "      <td>Winter</td>\n",
       "      <td>Innsbruck</td>\n",
       "      <td>Luge</td>\n",
       "      <td>Luge Mixed (Men)'s Doubles</td>\n",
       "      <td>NaN</td>\n",
       "    </tr>\n",
       "    <tr>\n",
       "      <th>271112</th>\n",
       "      <td>135570</td>\n",
       "      <td>Piotr ya</td>\n",
       "      <td>M</td>\n",
       "      <td>27.0</td>\n",
       "      <td>176.0</td>\n",
       "      <td>59.0</td>\n",
       "      <td>Poland</td>\n",
       "      <td>POL</td>\n",
       "      <td>2014 Winter</td>\n",
       "      <td>2014</td>\n",
       "      <td>Winter</td>\n",
       "      <td>Sochi</td>\n",
       "      <td>Ski Jumping</td>\n",
       "      <td>Ski Jumping Men's Large Hill, Individual</td>\n",
       "      <td>NaN</td>\n",
       "    </tr>\n",
       "    <tr>\n",
       "      <th>271113</th>\n",
       "      <td>135570</td>\n",
       "      <td>Piotr ya</td>\n",
       "      <td>M</td>\n",
       "      <td>27.0</td>\n",
       "      <td>176.0</td>\n",
       "      <td>59.0</td>\n",
       "      <td>Poland</td>\n",
       "      <td>POL</td>\n",
       "      <td>2014 Winter</td>\n",
       "      <td>2014</td>\n",
       "      <td>Winter</td>\n",
       "      <td>Sochi</td>\n",
       "      <td>Ski Jumping</td>\n",
       "      <td>Ski Jumping Men's Large Hill, Team</td>\n",
       "      <td>NaN</td>\n",
       "    </tr>\n",
       "    <tr>\n",
       "      <th>271114</th>\n",
       "      <td>135571</td>\n",
       "      <td>Tomasz Ireneusz ya</td>\n",
       "      <td>M</td>\n",
       "      <td>30.0</td>\n",
       "      <td>185.0</td>\n",
       "      <td>96.0</td>\n",
       "      <td>Poland</td>\n",
       "      <td>POL</td>\n",
       "      <td>1998 Winter</td>\n",
       "      <td>1998</td>\n",
       "      <td>Winter</td>\n",
       "      <td>Nagano</td>\n",
       "      <td>Bobsleigh</td>\n",
       "      <td>Bobsleigh Men's Four</td>\n",
       "      <td>NaN</td>\n",
       "    </tr>\n",
       "    <tr>\n",
       "      <th>271115</th>\n",
       "      <td>135571</td>\n",
       "      <td>Tomasz Ireneusz ya</td>\n",
       "      <td>M</td>\n",
       "      <td>34.0</td>\n",
       "      <td>185.0</td>\n",
       "      <td>96.0</td>\n",
       "      <td>Poland</td>\n",
       "      <td>POL</td>\n",
       "      <td>2002 Winter</td>\n",
       "      <td>2002</td>\n",
       "      <td>Winter</td>\n",
       "      <td>Salt Lake City</td>\n",
       "      <td>Bobsleigh</td>\n",
       "      <td>Bobsleigh Men's Four</td>\n",
       "      <td>NaN</td>\n",
       "    </tr>\n",
       "  </tbody>\n",
       "</table>\n",
       "<p>271116 rows × 15 columns</p>\n",
       "</div>"
      ],
      "text/plain": [
       "            ID                      Name Sex   Age  Height  Weight  \\\n",
       "0            1                 A Dijiang   M  24.0   180.0    80.0   \n",
       "1            2                  A Lamusi   M  23.0   170.0    60.0   \n",
       "2            3       Gunnar Nielsen Aaby   M  24.0     NaN     NaN   \n",
       "3            4      Edgar Lindenau Aabye   M  34.0     NaN     NaN   \n",
       "4            5  Christine Jacoba Aaftink   F  21.0   185.0    82.0   \n",
       "...        ...                       ...  ..   ...     ...     ...   \n",
       "271111  135569                Andrzej ya   M  29.0   179.0    89.0   \n",
       "271112  135570                  Piotr ya   M  27.0   176.0    59.0   \n",
       "271113  135570                  Piotr ya   M  27.0   176.0    59.0   \n",
       "271114  135571        Tomasz Ireneusz ya   M  30.0   185.0    96.0   \n",
       "271115  135571        Tomasz Ireneusz ya   M  34.0   185.0    96.0   \n",
       "\n",
       "                  Team  NOC        Games  Year  Season            City  \\\n",
       "0                China  CHN  1992 Summer  1992  Summer       Barcelona   \n",
       "1                China  CHN  2012 Summer  2012  Summer          London   \n",
       "2              Denmark  DEN  1920 Summer  1920  Summer       Antwerpen   \n",
       "3       Denmark/Sweden  DEN  1900 Summer  1900  Summer           Paris   \n",
       "4          Netherlands  NED  1988 Winter  1988  Winter         Calgary   \n",
       "...                ...  ...          ...   ...     ...             ...   \n",
       "271111        Poland-1  POL  1976 Winter  1976  Winter       Innsbruck   \n",
       "271112          Poland  POL  2014 Winter  2014  Winter           Sochi   \n",
       "271113          Poland  POL  2014 Winter  2014  Winter           Sochi   \n",
       "271114          Poland  POL  1998 Winter  1998  Winter          Nagano   \n",
       "271115          Poland  POL  2002 Winter  2002  Winter  Salt Lake City   \n",
       "\n",
       "                Sport                                     Event Medal  \n",
       "0          Basketball               Basketball Men's Basketball   NaN  \n",
       "1                Judo              Judo Men's Extra-Lightweight   NaN  \n",
       "2            Football                   Football Men's Football   NaN  \n",
       "3          Tug-Of-War               Tug-Of-War Men's Tug-Of-War  Gold  \n",
       "4       Speed Skating          Speed Skating Women's 500 metres   NaN  \n",
       "...               ...                                       ...   ...  \n",
       "271111           Luge                Luge Mixed (Men)'s Doubles   NaN  \n",
       "271112    Ski Jumping  Ski Jumping Men's Large Hill, Individual   NaN  \n",
       "271113    Ski Jumping        Ski Jumping Men's Large Hill, Team   NaN  \n",
       "271114      Bobsleigh                      Bobsleigh Men's Four   NaN  \n",
       "271115      Bobsleigh                      Bobsleigh Men's Four   NaN  \n",
       "\n",
       "[271116 rows x 15 columns]"
      ]
     },
     "execution_count": 74,
     "metadata": {},
     "output_type": "execute_result"
    }
   ],
   "source": [
    "data"
   ]
  },
  {
   "cell_type": "code",
   "execution_count": null,
   "id": "1343aace-bd15-4700-83aa-ef673a6b0a17",
   "metadata": {},
   "outputs": [],
   "source": [
    "### DISPLAY TOP 5 ROWS OF THE DATASET"
   ]
  },
  {
   "cell_type": "code",
   "execution_count": 76,
   "id": "9027ba10-6ce7-4cae-a37d-4fa47c5e89a0",
   "metadata": {},
   "outputs": [
    {
     "data": {
      "text/html": [
       "<div>\n",
       "<style scoped>\n",
       "    .dataframe tbody tr th:only-of-type {\n",
       "        vertical-align: middle;\n",
       "    }\n",
       "\n",
       "    .dataframe tbody tr th {\n",
       "        vertical-align: top;\n",
       "    }\n",
       "\n",
       "    .dataframe thead th {\n",
       "        text-align: right;\n",
       "    }\n",
       "</style>\n",
       "<table border=\"1\" class=\"dataframe\">\n",
       "  <thead>\n",
       "    <tr style=\"text-align: right;\">\n",
       "      <th></th>\n",
       "      <th>ID</th>\n",
       "      <th>Name</th>\n",
       "      <th>Sex</th>\n",
       "      <th>Age</th>\n",
       "      <th>Height</th>\n",
       "      <th>Weight</th>\n",
       "      <th>Team</th>\n",
       "      <th>NOC</th>\n",
       "      <th>Games</th>\n",
       "      <th>Year</th>\n",
       "      <th>Season</th>\n",
       "      <th>City</th>\n",
       "      <th>Sport</th>\n",
       "      <th>Event</th>\n",
       "      <th>Medal</th>\n",
       "    </tr>\n",
       "  </thead>\n",
       "  <tbody>\n",
       "    <tr>\n",
       "      <th>0</th>\n",
       "      <td>1</td>\n",
       "      <td>A Dijiang</td>\n",
       "      <td>M</td>\n",
       "      <td>24.0</td>\n",
       "      <td>180.0</td>\n",
       "      <td>80.0</td>\n",
       "      <td>China</td>\n",
       "      <td>CHN</td>\n",
       "      <td>1992 Summer</td>\n",
       "      <td>1992</td>\n",
       "      <td>Summer</td>\n",
       "      <td>Barcelona</td>\n",
       "      <td>Basketball</td>\n",
       "      <td>Basketball Men's Basketball</td>\n",
       "      <td>NaN</td>\n",
       "    </tr>\n",
       "    <tr>\n",
       "      <th>1</th>\n",
       "      <td>2</td>\n",
       "      <td>A Lamusi</td>\n",
       "      <td>M</td>\n",
       "      <td>23.0</td>\n",
       "      <td>170.0</td>\n",
       "      <td>60.0</td>\n",
       "      <td>China</td>\n",
       "      <td>CHN</td>\n",
       "      <td>2012 Summer</td>\n",
       "      <td>2012</td>\n",
       "      <td>Summer</td>\n",
       "      <td>London</td>\n",
       "      <td>Judo</td>\n",
       "      <td>Judo Men's Extra-Lightweight</td>\n",
       "      <td>NaN</td>\n",
       "    </tr>\n",
       "    <tr>\n",
       "      <th>2</th>\n",
       "      <td>3</td>\n",
       "      <td>Gunnar Nielsen Aaby</td>\n",
       "      <td>M</td>\n",
       "      <td>24.0</td>\n",
       "      <td>NaN</td>\n",
       "      <td>NaN</td>\n",
       "      <td>Denmark</td>\n",
       "      <td>DEN</td>\n",
       "      <td>1920 Summer</td>\n",
       "      <td>1920</td>\n",
       "      <td>Summer</td>\n",
       "      <td>Antwerpen</td>\n",
       "      <td>Football</td>\n",
       "      <td>Football Men's Football</td>\n",
       "      <td>NaN</td>\n",
       "    </tr>\n",
       "    <tr>\n",
       "      <th>3</th>\n",
       "      <td>4</td>\n",
       "      <td>Edgar Lindenau Aabye</td>\n",
       "      <td>M</td>\n",
       "      <td>34.0</td>\n",
       "      <td>NaN</td>\n",
       "      <td>NaN</td>\n",
       "      <td>Denmark/Sweden</td>\n",
       "      <td>DEN</td>\n",
       "      <td>1900 Summer</td>\n",
       "      <td>1900</td>\n",
       "      <td>Summer</td>\n",
       "      <td>Paris</td>\n",
       "      <td>Tug-Of-War</td>\n",
       "      <td>Tug-Of-War Men's Tug-Of-War</td>\n",
       "      <td>Gold</td>\n",
       "    </tr>\n",
       "    <tr>\n",
       "      <th>4</th>\n",
       "      <td>5</td>\n",
       "      <td>Christine Jacoba Aaftink</td>\n",
       "      <td>F</td>\n",
       "      <td>21.0</td>\n",
       "      <td>185.0</td>\n",
       "      <td>82.0</td>\n",
       "      <td>Netherlands</td>\n",
       "      <td>NED</td>\n",
       "      <td>1988 Winter</td>\n",
       "      <td>1988</td>\n",
       "      <td>Winter</td>\n",
       "      <td>Calgary</td>\n",
       "      <td>Speed Skating</td>\n",
       "      <td>Speed Skating Women's 500 metres</td>\n",
       "      <td>NaN</td>\n",
       "    </tr>\n",
       "  </tbody>\n",
       "</table>\n",
       "</div>"
      ],
      "text/plain": [
       "   ID                      Name Sex   Age  Height  Weight            Team  \\\n",
       "0   1                 A Dijiang   M  24.0   180.0    80.0           China   \n",
       "1   2                  A Lamusi   M  23.0   170.0    60.0           China   \n",
       "2   3       Gunnar Nielsen Aaby   M  24.0     NaN     NaN         Denmark   \n",
       "3   4      Edgar Lindenau Aabye   M  34.0     NaN     NaN  Denmark/Sweden   \n",
       "4   5  Christine Jacoba Aaftink   F  21.0   185.0    82.0     Netherlands   \n",
       "\n",
       "   NOC        Games  Year  Season       City          Sport  \\\n",
       "0  CHN  1992 Summer  1992  Summer  Barcelona     Basketball   \n",
       "1  CHN  2012 Summer  2012  Summer     London           Judo   \n",
       "2  DEN  1920 Summer  1920  Summer  Antwerpen       Football   \n",
       "3  DEN  1900 Summer  1900  Summer      Paris     Tug-Of-War   \n",
       "4  NED  1988 Winter  1988  Winter    Calgary  Speed Skating   \n",
       "\n",
       "                              Event Medal  \n",
       "0       Basketball Men's Basketball   NaN  \n",
       "1      Judo Men's Extra-Lightweight   NaN  \n",
       "2           Football Men's Football   NaN  \n",
       "3       Tug-Of-War Men's Tug-Of-War  Gold  \n",
       "4  Speed Skating Women's 500 metres   NaN  "
      ]
     },
     "execution_count": 76,
     "metadata": {},
     "output_type": "execute_result"
    }
   ],
   "source": [
    "data.head()"
   ]
  },
  {
   "cell_type": "code",
   "execution_count": 78,
   "id": "baa6fefd-8e74-4ca9-ab9e-5174a04c24d7",
   "metadata": {},
   "outputs": [],
   "source": [
    "## LAST 5 ROWS"
   ]
  },
  {
   "cell_type": "code",
   "execution_count": 80,
   "id": "c3a10e2f-a4e6-43db-9d86-98136c07d033",
   "metadata": {},
   "outputs": [
    {
     "data": {
      "text/html": [
       "<div>\n",
       "<style scoped>\n",
       "    .dataframe tbody tr th:only-of-type {\n",
       "        vertical-align: middle;\n",
       "    }\n",
       "\n",
       "    .dataframe tbody tr th {\n",
       "        vertical-align: top;\n",
       "    }\n",
       "\n",
       "    .dataframe thead th {\n",
       "        text-align: right;\n",
       "    }\n",
       "</style>\n",
       "<table border=\"1\" class=\"dataframe\">\n",
       "  <thead>\n",
       "    <tr style=\"text-align: right;\">\n",
       "      <th></th>\n",
       "      <th>ID</th>\n",
       "      <th>Name</th>\n",
       "      <th>Sex</th>\n",
       "      <th>Age</th>\n",
       "      <th>Height</th>\n",
       "      <th>Weight</th>\n",
       "      <th>Team</th>\n",
       "      <th>NOC</th>\n",
       "      <th>Games</th>\n",
       "      <th>Year</th>\n",
       "      <th>Season</th>\n",
       "      <th>City</th>\n",
       "      <th>Sport</th>\n",
       "      <th>Event</th>\n",
       "      <th>Medal</th>\n",
       "    </tr>\n",
       "  </thead>\n",
       "  <tbody>\n",
       "    <tr>\n",
       "      <th>271111</th>\n",
       "      <td>135569</td>\n",
       "      <td>Andrzej ya</td>\n",
       "      <td>M</td>\n",
       "      <td>29.0</td>\n",
       "      <td>179.0</td>\n",
       "      <td>89.0</td>\n",
       "      <td>Poland-1</td>\n",
       "      <td>POL</td>\n",
       "      <td>1976 Winter</td>\n",
       "      <td>1976</td>\n",
       "      <td>Winter</td>\n",
       "      <td>Innsbruck</td>\n",
       "      <td>Luge</td>\n",
       "      <td>Luge Mixed (Men)'s Doubles</td>\n",
       "      <td>NaN</td>\n",
       "    </tr>\n",
       "    <tr>\n",
       "      <th>271112</th>\n",
       "      <td>135570</td>\n",
       "      <td>Piotr ya</td>\n",
       "      <td>M</td>\n",
       "      <td>27.0</td>\n",
       "      <td>176.0</td>\n",
       "      <td>59.0</td>\n",
       "      <td>Poland</td>\n",
       "      <td>POL</td>\n",
       "      <td>2014 Winter</td>\n",
       "      <td>2014</td>\n",
       "      <td>Winter</td>\n",
       "      <td>Sochi</td>\n",
       "      <td>Ski Jumping</td>\n",
       "      <td>Ski Jumping Men's Large Hill, Individual</td>\n",
       "      <td>NaN</td>\n",
       "    </tr>\n",
       "    <tr>\n",
       "      <th>271113</th>\n",
       "      <td>135570</td>\n",
       "      <td>Piotr ya</td>\n",
       "      <td>M</td>\n",
       "      <td>27.0</td>\n",
       "      <td>176.0</td>\n",
       "      <td>59.0</td>\n",
       "      <td>Poland</td>\n",
       "      <td>POL</td>\n",
       "      <td>2014 Winter</td>\n",
       "      <td>2014</td>\n",
       "      <td>Winter</td>\n",
       "      <td>Sochi</td>\n",
       "      <td>Ski Jumping</td>\n",
       "      <td>Ski Jumping Men's Large Hill, Team</td>\n",
       "      <td>NaN</td>\n",
       "    </tr>\n",
       "    <tr>\n",
       "      <th>271114</th>\n",
       "      <td>135571</td>\n",
       "      <td>Tomasz Ireneusz ya</td>\n",
       "      <td>M</td>\n",
       "      <td>30.0</td>\n",
       "      <td>185.0</td>\n",
       "      <td>96.0</td>\n",
       "      <td>Poland</td>\n",
       "      <td>POL</td>\n",
       "      <td>1998 Winter</td>\n",
       "      <td>1998</td>\n",
       "      <td>Winter</td>\n",
       "      <td>Nagano</td>\n",
       "      <td>Bobsleigh</td>\n",
       "      <td>Bobsleigh Men's Four</td>\n",
       "      <td>NaN</td>\n",
       "    </tr>\n",
       "    <tr>\n",
       "      <th>271115</th>\n",
       "      <td>135571</td>\n",
       "      <td>Tomasz Ireneusz ya</td>\n",
       "      <td>M</td>\n",
       "      <td>34.0</td>\n",
       "      <td>185.0</td>\n",
       "      <td>96.0</td>\n",
       "      <td>Poland</td>\n",
       "      <td>POL</td>\n",
       "      <td>2002 Winter</td>\n",
       "      <td>2002</td>\n",
       "      <td>Winter</td>\n",
       "      <td>Salt Lake City</td>\n",
       "      <td>Bobsleigh</td>\n",
       "      <td>Bobsleigh Men's Four</td>\n",
       "      <td>NaN</td>\n",
       "    </tr>\n",
       "  </tbody>\n",
       "</table>\n",
       "</div>"
      ],
      "text/plain": [
       "            ID                Name Sex   Age  Height  Weight      Team  NOC  \\\n",
       "271111  135569          Andrzej ya   M  29.0   179.0    89.0  Poland-1  POL   \n",
       "271112  135570            Piotr ya   M  27.0   176.0    59.0    Poland  POL   \n",
       "271113  135570            Piotr ya   M  27.0   176.0    59.0    Poland  POL   \n",
       "271114  135571  Tomasz Ireneusz ya   M  30.0   185.0    96.0    Poland  POL   \n",
       "271115  135571  Tomasz Ireneusz ya   M  34.0   185.0    96.0    Poland  POL   \n",
       "\n",
       "              Games  Year  Season            City        Sport  \\\n",
       "271111  1976 Winter  1976  Winter       Innsbruck         Luge   \n",
       "271112  2014 Winter  2014  Winter           Sochi  Ski Jumping   \n",
       "271113  2014 Winter  2014  Winter           Sochi  Ski Jumping   \n",
       "271114  1998 Winter  1998  Winter          Nagano    Bobsleigh   \n",
       "271115  2002 Winter  2002  Winter  Salt Lake City    Bobsleigh   \n",
       "\n",
       "                                           Event Medal  \n",
       "271111                Luge Mixed (Men)'s Doubles   NaN  \n",
       "271112  Ski Jumping Men's Large Hill, Individual   NaN  \n",
       "271113        Ski Jumping Men's Large Hill, Team   NaN  \n",
       "271114                      Bobsleigh Men's Four   NaN  \n",
       "271115                      Bobsleigh Men's Four   NaN  "
      ]
     },
     "execution_count": 80,
     "metadata": {},
     "output_type": "execute_result"
    }
   ],
   "source": [
    "data.tail()"
   ]
  },
  {
   "cell_type": "code",
   "execution_count": null,
   "id": "d13a69ee-6c59-4393-a4d4-8126bb8c5efc",
   "metadata": {},
   "outputs": [],
   "source": [
    "## PRINT RANDOM 5 ROWS FROM OUR DATASET"
   ]
  },
  {
   "cell_type": "code",
   "execution_count": 84,
   "id": "274e73ab-b265-4294-b3f7-05ef8c1d1108",
   "metadata": {},
   "outputs": [
    {
     "data": {
      "text/html": [
       "<div>\n",
       "<style scoped>\n",
       "    .dataframe tbody tr th:only-of-type {\n",
       "        vertical-align: middle;\n",
       "    }\n",
       "\n",
       "    .dataframe tbody tr th {\n",
       "        vertical-align: top;\n",
       "    }\n",
       "\n",
       "    .dataframe thead th {\n",
       "        text-align: right;\n",
       "    }\n",
       "</style>\n",
       "<table border=\"1\" class=\"dataframe\">\n",
       "  <thead>\n",
       "    <tr style=\"text-align: right;\">\n",
       "      <th></th>\n",
       "      <th>ID</th>\n",
       "      <th>Name</th>\n",
       "      <th>Sex</th>\n",
       "      <th>Age</th>\n",
       "      <th>Height</th>\n",
       "      <th>Weight</th>\n",
       "      <th>Team</th>\n",
       "      <th>NOC</th>\n",
       "      <th>Games</th>\n",
       "      <th>Year</th>\n",
       "      <th>Season</th>\n",
       "      <th>City</th>\n",
       "      <th>Sport</th>\n",
       "      <th>Event</th>\n",
       "      <th>Medal</th>\n",
       "    </tr>\n",
       "  </thead>\n",
       "  <tbody>\n",
       "    <tr>\n",
       "      <th>43637</th>\n",
       "      <td>22501</td>\n",
       "      <td>Bruna Giulia Colombetti-Peroncini</td>\n",
       "      <td>F</td>\n",
       "      <td>24.0</td>\n",
       "      <td>173.0</td>\n",
       "      <td>75.0</td>\n",
       "      <td>Italy</td>\n",
       "      <td>ITA</td>\n",
       "      <td>1960 Summer</td>\n",
       "      <td>1960</td>\n",
       "      <td>Summer</td>\n",
       "      <td>Roma</td>\n",
       "      <td>Fencing</td>\n",
       "      <td>Fencing Women's Foil, Individual</td>\n",
       "      <td>NaN</td>\n",
       "    </tr>\n",
       "    <tr>\n",
       "      <th>171625</th>\n",
       "      <td>86241</td>\n",
       "      <td>Jaroslav Nikodm</td>\n",
       "      <td>M</td>\n",
       "      <td>30.0</td>\n",
       "      <td>186.0</td>\n",
       "      <td>94.0</td>\n",
       "      <td>Czechoslovakia</td>\n",
       "      <td>TCH</td>\n",
       "      <td>1980 Summer</td>\n",
       "      <td>1980</td>\n",
       "      <td>Summer</td>\n",
       "      <td>Moskva</td>\n",
       "      <td>Judo</td>\n",
       "      <td>Judo Men's Half-Heavyweight</td>\n",
       "      <td>NaN</td>\n",
       "    </tr>\n",
       "    <tr>\n",
       "      <th>131055</th>\n",
       "      <td>65965</td>\n",
       "      <td>Lai Chu-Long</td>\n",
       "      <td>M</td>\n",
       "      <td>26.0</td>\n",
       "      <td>167.0</td>\n",
       "      <td>58.0</td>\n",
       "      <td>Chinese Taipei</td>\n",
       "      <td>TPE</td>\n",
       "      <td>1968 Summer</td>\n",
       "      <td>1968</td>\n",
       "      <td>Summer</td>\n",
       "      <td>Mexico City</td>\n",
       "      <td>Gymnastics</td>\n",
       "      <td>Gymnastics Men's Parallel Bars</td>\n",
       "      <td>NaN</td>\n",
       "    </tr>\n",
       "    <tr>\n",
       "      <th>74184</th>\n",
       "      <td>37676</td>\n",
       "      <td>Yasumasa Furo</td>\n",
       "      <td>M</td>\n",
       "      <td>44.0</td>\n",
       "      <td>160.0</td>\n",
       "      <td>67.0</td>\n",
       "      <td>Japan</td>\n",
       "      <td>JPN</td>\n",
       "      <td>1988 Summer</td>\n",
       "      <td>1988</td>\n",
       "      <td>Summer</td>\n",
       "      <td>Seoul</td>\n",
       "      <td>Shooting</td>\n",
       "      <td>Shooting Mixed Skeet</td>\n",
       "      <td>NaN</td>\n",
       "    </tr>\n",
       "    <tr>\n",
       "      <th>132170</th>\n",
       "      <td>66518</td>\n",
       "      <td>Marcel Langsam</td>\n",
       "      <td>M</td>\n",
       "      <td>20.0</td>\n",
       "      <td>NaN</td>\n",
       "      <td>NaN</td>\n",
       "      <td>Luxembourg</td>\n",
       "      <td>LUX</td>\n",
       "      <td>1912 Summer</td>\n",
       "      <td>1912</td>\n",
       "      <td>Summer</td>\n",
       "      <td>Stockholm</td>\n",
       "      <td>Gymnastics</td>\n",
       "      <td>Gymnastics Men's Team All-Around</td>\n",
       "      <td>NaN</td>\n",
       "    </tr>\n",
       "  </tbody>\n",
       "</table>\n",
       "</div>"
      ],
      "text/plain": [
       "           ID                               Name Sex   Age  Height  Weight  \\\n",
       "43637   22501  Bruna Giulia Colombetti-Peroncini   F  24.0   173.0    75.0   \n",
       "171625  86241                    Jaroslav Nikodm   M  30.0   186.0    94.0   \n",
       "131055  65965                       Lai Chu-Long   M  26.0   167.0    58.0   \n",
       "74184   37676                      Yasumasa Furo   M  44.0   160.0    67.0   \n",
       "132170  66518                     Marcel Langsam   M  20.0     NaN     NaN   \n",
       "\n",
       "                  Team  NOC        Games  Year  Season         City  \\\n",
       "43637            Italy  ITA  1960 Summer  1960  Summer         Roma   \n",
       "171625  Czechoslovakia  TCH  1980 Summer  1980  Summer       Moskva   \n",
       "131055  Chinese Taipei  TPE  1968 Summer  1968  Summer  Mexico City   \n",
       "74184            Japan  JPN  1988 Summer  1988  Summer        Seoul   \n",
       "132170      Luxembourg  LUX  1912 Summer  1912  Summer    Stockholm   \n",
       "\n",
       "             Sport                             Event Medal  \n",
       "43637      Fencing  Fencing Women's Foil, Individual   NaN  \n",
       "171625        Judo       Judo Men's Half-Heavyweight   NaN  \n",
       "131055  Gymnastics    Gymnastics Men's Parallel Bars   NaN  \n",
       "74184     Shooting              Shooting Mixed Skeet   NaN  \n",
       "132170  Gymnastics  Gymnastics Men's Team All-Around   NaN  "
      ]
     },
     "execution_count": 84,
     "metadata": {},
     "output_type": "execute_result"
    }
   ],
   "source": [
    "data.sample(5)"
   ]
  },
  {
   "cell_type": "code",
   "execution_count": null,
   "id": "7f225320-864c-4bdb-a7a1-57977b1231cb",
   "metadata": {},
   "outputs": [],
   "source": [
    "### FIND SHAPE OF OUR DATASET (NUMBER OF ROWS AND COLUMNS )"
   ]
  },
  {
   "cell_type": "code",
   "execution_count": 92,
   "id": "7d55bf90-c51a-410e-98ff-946352b8e7de",
   "metadata": {},
   "outputs": [
    {
     "data": {
      "text/plain": [
       "(271116, 15)"
      ]
     },
     "execution_count": 92,
     "metadata": {},
     "output_type": "execute_result"
    }
   ],
   "source": [
    "data.shape"
   ]
  },
  {
   "cell_type": "code",
   "execution_count": 96,
   "id": "a3f10624-15d9-4205-84a0-5f279755a85d",
   "metadata": {},
   "outputs": [
    {
     "name": "stdout",
     "output_type": "stream",
     "text": [
      "number of rows (271116, 15)\n",
      "number of columns (271116, 15)\n"
     ]
    }
   ],
   "source": [
    "print(\"number of rows\",data.shape)\n",
    "print(\"number of columns\",data.shape)"
   ]
  },
  {
   "cell_type": "code",
   "execution_count": null,
   "id": "dae7ad19-e1d4-4692-a7f0-de3c4e65e005",
   "metadata": {},
   "outputs": [],
   "source": [
    "## CHECK FOR NULL VALUES IN  THE DATASET"
   ]
  },
  {
   "cell_type": "code",
   "execution_count": 100,
   "id": "d6513af9-4fb0-4388-add5-da8f7117a587",
   "metadata": {},
   "outputs": [
    {
     "data": {
      "text/plain": [
       "ID             0\n",
       "Name           0\n",
       "Sex            0\n",
       "Age         9474\n",
       "Height     60171\n",
       "Weight     62875\n",
       "Team           0\n",
       "NOC            0\n",
       "Games          0\n",
       "Year           0\n",
       "Season         0\n",
       "City           0\n",
       "Sport          0\n",
       "Event          0\n",
       "Medal     231333\n",
       "dtype: int64"
      ]
     },
     "execution_count": 100,
     "metadata": {},
     "output_type": "execute_result"
    }
   ],
   "source": [
    "data.isnull().sum()"
   ]
  },
  {
   "cell_type": "code",
   "execution_count": 102,
   "id": "4a907ac4-172c-4a7e-a4bc-98d9442df509",
   "metadata": {},
   "outputs": [
    {
     "data": {
      "text/plain": [
       "Index(['ID', 'Name', 'Sex', 'Age', 'Height', 'Weight', 'Team', 'NOC', 'Games',\n",
       "       'Year', 'Season', 'City', 'Sport', 'Event', 'Medal'],\n",
       "      dtype='object')"
      ]
     },
     "execution_count": 102,
     "metadata": {},
     "output_type": "execute_result"
    }
   ],
   "source": [
    "data.columns"
   ]
  },
  {
   "cell_type": "code",
   "execution_count": 104,
   "id": "382c711c-57c1-4c91-aa8e-50552c73f896",
   "metadata": {},
   "outputs": [],
   "source": [
    "data['Age']=data['Age'].fillna(data['Age'].mean())\n",
    "data['Height']=data['Height'].fillna(data['Height'].mean())\n",
    "data['Weight']=data['Weight'].fillna(data['Weight'].mean())"
   ]
  },
  {
   "cell_type": "code",
   "execution_count": 108,
   "id": "21dfef92-093a-4123-8974-f0e6de7d3d7b",
   "metadata": {},
   "outputs": [
    {
     "data": {
      "text/plain": [
       "ID             0\n",
       "Name           0\n",
       "Sex            0\n",
       "Age            0\n",
       "Height         0\n",
       "Weight         0\n",
       "Team           0\n",
       "NOC            0\n",
       "Games          0\n",
       "Year           0\n",
       "Season         0\n",
       "City           0\n",
       "Sport          0\n",
       "Event          0\n",
       "Medal     231333\n",
       "dtype: int64"
      ]
     },
     "execution_count": 108,
     "metadata": {},
     "output_type": "execute_result"
    }
   ],
   "source": [
    "data.isnull().sum()"
   ]
  },
  {
   "cell_type": "code",
   "execution_count": null,
   "id": "5959f898-cc8c-4ebc-bc36-838dafecf1e1",
   "metadata": {},
   "outputs": [],
   "source": [
    "## GET INFORMATION ABOUT OUR DATASET LIKE TOTAL NUMBER ROWS ,COLUMNS,DATATYPES OF EACH COLUMN AND MEMORY REQUIRED"
   ]
  },
  {
   "cell_type": "code",
   "execution_count": 110,
   "id": "53450a35-6bca-49bb-bddf-defa056c261e",
   "metadata": {},
   "outputs": [
    {
     "name": "stdout",
     "output_type": "stream",
     "text": [
      "<class 'pandas.core.frame.DataFrame'>\n",
      "RangeIndex: 271116 entries, 0 to 271115\n",
      "Data columns (total 15 columns):\n",
      " #   Column  Non-Null Count   Dtype  \n",
      "---  ------  --------------   -----  \n",
      " 0   ID      271116 non-null  int64  \n",
      " 1   Name    271116 non-null  object \n",
      " 2   Sex     271116 non-null  object \n",
      " 3   Age     271116 non-null  float64\n",
      " 4   Height  271116 non-null  float64\n",
      " 5   Weight  271116 non-null  float64\n",
      " 6   Team    271116 non-null  object \n",
      " 7   NOC     271116 non-null  object \n",
      " 8   Games   271116 non-null  object \n",
      " 9   Year    271116 non-null  int64  \n",
      " 10  Season  271116 non-null  object \n",
      " 11  City    271116 non-null  object \n",
      " 12  Sport   271116 non-null  object \n",
      " 13  Event   271116 non-null  object \n",
      " 14  Medal   39783 non-null   object \n",
      "dtypes: float64(3), int64(2), object(10)\n",
      "memory usage: 31.0+ MB\n"
     ]
    }
   ],
   "source": [
    "data.info()"
   ]
  },
  {
   "cell_type": "code",
   "execution_count": null,
   "id": "ebe32d9d-2a08-491a-a09d-bad3cec9492e",
   "metadata": {},
   "outputs": [],
   "source": [
    "### GET OVERALL STATISTICS ABOUT THE DATASET"
   ]
  },
  {
   "cell_type": "code",
   "execution_count": 118,
   "id": "29a0c614-9b5c-40a7-8713-0d46d4b72b79",
   "metadata": {},
   "outputs": [
    {
     "data": {
      "text/html": [
       "<div>\n",
       "<style scoped>\n",
       "    .dataframe tbody tr th:only-of-type {\n",
       "        vertical-align: middle;\n",
       "    }\n",
       "\n",
       "    .dataframe tbody tr th {\n",
       "        vertical-align: top;\n",
       "    }\n",
       "\n",
       "    .dataframe thead th {\n",
       "        text-align: right;\n",
       "    }\n",
       "</style>\n",
       "<table border=\"1\" class=\"dataframe\">\n",
       "  <thead>\n",
       "    <tr style=\"text-align: right;\">\n",
       "      <th></th>\n",
       "      <th>ID</th>\n",
       "      <th>Age</th>\n",
       "      <th>Height</th>\n",
       "      <th>Weight</th>\n",
       "      <th>Year</th>\n",
       "    </tr>\n",
       "  </thead>\n",
       "  <tbody>\n",
       "    <tr>\n",
       "      <th>count</th>\n",
       "      <td>271116.000000</td>\n",
       "      <td>271116.000000</td>\n",
       "      <td>271116.00000</td>\n",
       "      <td>271116.000000</td>\n",
       "      <td>271116.000000</td>\n",
       "    </tr>\n",
       "    <tr>\n",
       "      <th>mean</th>\n",
       "      <td>68248.954396</td>\n",
       "      <td>25.556898</td>\n",
       "      <td>175.33897</td>\n",
       "      <td>70.702393</td>\n",
       "      <td>1978.378480</td>\n",
       "    </tr>\n",
       "    <tr>\n",
       "      <th>std</th>\n",
       "      <td>39022.286345</td>\n",
       "      <td>6.280857</td>\n",
       "      <td>9.27810</td>\n",
       "      <td>12.574690</td>\n",
       "      <td>29.877632</td>\n",
       "    </tr>\n",
       "    <tr>\n",
       "      <th>min</th>\n",
       "      <td>1.000000</td>\n",
       "      <td>10.000000</td>\n",
       "      <td>127.00000</td>\n",
       "      <td>25.000000</td>\n",
       "      <td>1896.000000</td>\n",
       "    </tr>\n",
       "    <tr>\n",
       "      <th>25%</th>\n",
       "      <td>34643.000000</td>\n",
       "      <td>22.000000</td>\n",
       "      <td>170.00000</td>\n",
       "      <td>63.000000</td>\n",
       "      <td>1960.000000</td>\n",
       "    </tr>\n",
       "    <tr>\n",
       "      <th>50%</th>\n",
       "      <td>68205.000000</td>\n",
       "      <td>25.000000</td>\n",
       "      <td>175.33897</td>\n",
       "      <td>70.702393</td>\n",
       "      <td>1988.000000</td>\n",
       "    </tr>\n",
       "    <tr>\n",
       "      <th>75%</th>\n",
       "      <td>102097.250000</td>\n",
       "      <td>28.000000</td>\n",
       "      <td>180.00000</td>\n",
       "      <td>75.000000</td>\n",
       "      <td>2002.000000</td>\n",
       "    </tr>\n",
       "    <tr>\n",
       "      <th>max</th>\n",
       "      <td>135571.000000</td>\n",
       "      <td>97.000000</td>\n",
       "      <td>226.00000</td>\n",
       "      <td>214.000000</td>\n",
       "      <td>2016.000000</td>\n",
       "    </tr>\n",
       "  </tbody>\n",
       "</table>\n",
       "</div>"
      ],
      "text/plain": [
       "                  ID            Age        Height         Weight  \\\n",
       "count  271116.000000  271116.000000  271116.00000  271116.000000   \n",
       "mean    68248.954396      25.556898     175.33897      70.702393   \n",
       "std     39022.286345       6.280857       9.27810      12.574690   \n",
       "min         1.000000      10.000000     127.00000      25.000000   \n",
       "25%     34643.000000      22.000000     170.00000      63.000000   \n",
       "50%     68205.000000      25.000000     175.33897      70.702393   \n",
       "75%    102097.250000      28.000000     180.00000      75.000000   \n",
       "max    135571.000000      97.000000     226.00000     214.000000   \n",
       "\n",
       "                Year  \n",
       "count  271116.000000  \n",
       "mean     1978.378480  \n",
       "std        29.877632  \n",
       "min      1896.000000  \n",
       "25%      1960.000000  \n",
       "50%      1988.000000  \n",
       "75%      2002.000000  \n",
       "max      2016.000000  "
      ]
     },
     "execution_count": 118,
     "metadata": {},
     "output_type": "execute_result"
    }
   ],
   "source": [
    "data.describe()"
   ]
  },
  {
   "cell_type": "code",
   "execution_count": 120,
   "id": "b57da2e4-5fbd-4763-a581-29f96a99fdd0",
   "metadata": {},
   "outputs": [
    {
     "data": {
      "text/html": [
       "<div>\n",
       "<style scoped>\n",
       "    .dataframe tbody tr th:only-of-type {\n",
       "        vertical-align: middle;\n",
       "    }\n",
       "\n",
       "    .dataframe tbody tr th {\n",
       "        vertical-align: top;\n",
       "    }\n",
       "\n",
       "    .dataframe thead th {\n",
       "        text-align: right;\n",
       "    }\n",
       "</style>\n",
       "<table border=\"1\" class=\"dataframe\">\n",
       "  <thead>\n",
       "    <tr style=\"text-align: right;\">\n",
       "      <th></th>\n",
       "      <th>ID</th>\n",
       "      <th>Name</th>\n",
       "      <th>Sex</th>\n",
       "      <th>Age</th>\n",
       "      <th>Height</th>\n",
       "      <th>Weight</th>\n",
       "      <th>Team</th>\n",
       "      <th>NOC</th>\n",
       "      <th>Games</th>\n",
       "      <th>Year</th>\n",
       "      <th>Season</th>\n",
       "      <th>City</th>\n",
       "      <th>Sport</th>\n",
       "      <th>Event</th>\n",
       "      <th>Medal</th>\n",
       "    </tr>\n",
       "  </thead>\n",
       "  <tbody>\n",
       "    <tr>\n",
       "      <th>count</th>\n",
       "      <td>271116.000000</td>\n",
       "      <td>271116</td>\n",
       "      <td>271116</td>\n",
       "      <td>271116.000000</td>\n",
       "      <td>271116.00000</td>\n",
       "      <td>271116.000000</td>\n",
       "      <td>271116</td>\n",
       "      <td>271116</td>\n",
       "      <td>271116</td>\n",
       "      <td>271116.000000</td>\n",
       "      <td>271116</td>\n",
       "      <td>271116</td>\n",
       "      <td>271116</td>\n",
       "      <td>271116</td>\n",
       "      <td>39783</td>\n",
       "    </tr>\n",
       "    <tr>\n",
       "      <th>unique</th>\n",
       "      <td>NaN</td>\n",
       "      <td>134732</td>\n",
       "      <td>2</td>\n",
       "      <td>NaN</td>\n",
       "      <td>NaN</td>\n",
       "      <td>NaN</td>\n",
       "      <td>1184</td>\n",
       "      <td>230</td>\n",
       "      <td>51</td>\n",
       "      <td>NaN</td>\n",
       "      <td>2</td>\n",
       "      <td>42</td>\n",
       "      <td>66</td>\n",
       "      <td>765</td>\n",
       "      <td>3</td>\n",
       "    </tr>\n",
       "    <tr>\n",
       "      <th>top</th>\n",
       "      <td>NaN</td>\n",
       "      <td>Robert Tait McKenzie</td>\n",
       "      <td>M</td>\n",
       "      <td>NaN</td>\n",
       "      <td>NaN</td>\n",
       "      <td>NaN</td>\n",
       "      <td>United States</td>\n",
       "      <td>USA</td>\n",
       "      <td>2000 Summer</td>\n",
       "      <td>NaN</td>\n",
       "      <td>Summer</td>\n",
       "      <td>London</td>\n",
       "      <td>Athletics</td>\n",
       "      <td>Football Men's Football</td>\n",
       "      <td>Gold</td>\n",
       "    </tr>\n",
       "    <tr>\n",
       "      <th>freq</th>\n",
       "      <td>NaN</td>\n",
       "      <td>58</td>\n",
       "      <td>196594</td>\n",
       "      <td>NaN</td>\n",
       "      <td>NaN</td>\n",
       "      <td>NaN</td>\n",
       "      <td>17847</td>\n",
       "      <td>18853</td>\n",
       "      <td>13821</td>\n",
       "      <td>NaN</td>\n",
       "      <td>222552</td>\n",
       "      <td>22426</td>\n",
       "      <td>38624</td>\n",
       "      <td>5733</td>\n",
       "      <td>13372</td>\n",
       "    </tr>\n",
       "    <tr>\n",
       "      <th>mean</th>\n",
       "      <td>68248.954396</td>\n",
       "      <td>NaN</td>\n",
       "      <td>NaN</td>\n",
       "      <td>25.556898</td>\n",
       "      <td>175.33897</td>\n",
       "      <td>70.702393</td>\n",
       "      <td>NaN</td>\n",
       "      <td>NaN</td>\n",
       "      <td>NaN</td>\n",
       "      <td>1978.378480</td>\n",
       "      <td>NaN</td>\n",
       "      <td>NaN</td>\n",
       "      <td>NaN</td>\n",
       "      <td>NaN</td>\n",
       "      <td>NaN</td>\n",
       "    </tr>\n",
       "    <tr>\n",
       "      <th>std</th>\n",
       "      <td>39022.286345</td>\n",
       "      <td>NaN</td>\n",
       "      <td>NaN</td>\n",
       "      <td>6.280857</td>\n",
       "      <td>9.27810</td>\n",
       "      <td>12.574690</td>\n",
       "      <td>NaN</td>\n",
       "      <td>NaN</td>\n",
       "      <td>NaN</td>\n",
       "      <td>29.877632</td>\n",
       "      <td>NaN</td>\n",
       "      <td>NaN</td>\n",
       "      <td>NaN</td>\n",
       "      <td>NaN</td>\n",
       "      <td>NaN</td>\n",
       "    </tr>\n",
       "    <tr>\n",
       "      <th>min</th>\n",
       "      <td>1.000000</td>\n",
       "      <td>NaN</td>\n",
       "      <td>NaN</td>\n",
       "      <td>10.000000</td>\n",
       "      <td>127.00000</td>\n",
       "      <td>25.000000</td>\n",
       "      <td>NaN</td>\n",
       "      <td>NaN</td>\n",
       "      <td>NaN</td>\n",
       "      <td>1896.000000</td>\n",
       "      <td>NaN</td>\n",
       "      <td>NaN</td>\n",
       "      <td>NaN</td>\n",
       "      <td>NaN</td>\n",
       "      <td>NaN</td>\n",
       "    </tr>\n",
       "    <tr>\n",
       "      <th>25%</th>\n",
       "      <td>34643.000000</td>\n",
       "      <td>NaN</td>\n",
       "      <td>NaN</td>\n",
       "      <td>22.000000</td>\n",
       "      <td>170.00000</td>\n",
       "      <td>63.000000</td>\n",
       "      <td>NaN</td>\n",
       "      <td>NaN</td>\n",
       "      <td>NaN</td>\n",
       "      <td>1960.000000</td>\n",
       "      <td>NaN</td>\n",
       "      <td>NaN</td>\n",
       "      <td>NaN</td>\n",
       "      <td>NaN</td>\n",
       "      <td>NaN</td>\n",
       "    </tr>\n",
       "    <tr>\n",
       "      <th>50%</th>\n",
       "      <td>68205.000000</td>\n",
       "      <td>NaN</td>\n",
       "      <td>NaN</td>\n",
       "      <td>25.000000</td>\n",
       "      <td>175.33897</td>\n",
       "      <td>70.702393</td>\n",
       "      <td>NaN</td>\n",
       "      <td>NaN</td>\n",
       "      <td>NaN</td>\n",
       "      <td>1988.000000</td>\n",
       "      <td>NaN</td>\n",
       "      <td>NaN</td>\n",
       "      <td>NaN</td>\n",
       "      <td>NaN</td>\n",
       "      <td>NaN</td>\n",
       "    </tr>\n",
       "    <tr>\n",
       "      <th>75%</th>\n",
       "      <td>102097.250000</td>\n",
       "      <td>NaN</td>\n",
       "      <td>NaN</td>\n",
       "      <td>28.000000</td>\n",
       "      <td>180.00000</td>\n",
       "      <td>75.000000</td>\n",
       "      <td>NaN</td>\n",
       "      <td>NaN</td>\n",
       "      <td>NaN</td>\n",
       "      <td>2002.000000</td>\n",
       "      <td>NaN</td>\n",
       "      <td>NaN</td>\n",
       "      <td>NaN</td>\n",
       "      <td>NaN</td>\n",
       "      <td>NaN</td>\n",
       "    </tr>\n",
       "    <tr>\n",
       "      <th>max</th>\n",
       "      <td>135571.000000</td>\n",
       "      <td>NaN</td>\n",
       "      <td>NaN</td>\n",
       "      <td>97.000000</td>\n",
       "      <td>226.00000</td>\n",
       "      <td>214.000000</td>\n",
       "      <td>NaN</td>\n",
       "      <td>NaN</td>\n",
       "      <td>NaN</td>\n",
       "      <td>2016.000000</td>\n",
       "      <td>NaN</td>\n",
       "      <td>NaN</td>\n",
       "      <td>NaN</td>\n",
       "      <td>NaN</td>\n",
       "      <td>NaN</td>\n",
       "    </tr>\n",
       "  </tbody>\n",
       "</table>\n",
       "</div>"
      ],
      "text/plain": [
       "                   ID                  Name     Sex            Age  \\\n",
       "count   271116.000000                271116  271116  271116.000000   \n",
       "unique            NaN                134732       2            NaN   \n",
       "top               NaN  Robert Tait McKenzie       M            NaN   \n",
       "freq              NaN                    58  196594            NaN   \n",
       "mean     68248.954396                   NaN     NaN      25.556898   \n",
       "std      39022.286345                   NaN     NaN       6.280857   \n",
       "min          1.000000                   NaN     NaN      10.000000   \n",
       "25%      34643.000000                   NaN     NaN      22.000000   \n",
       "50%      68205.000000                   NaN     NaN      25.000000   \n",
       "75%     102097.250000                   NaN     NaN      28.000000   \n",
       "max     135571.000000                   NaN     NaN      97.000000   \n",
       "\n",
       "              Height         Weight           Team     NOC        Games  \\\n",
       "count   271116.00000  271116.000000         271116  271116       271116   \n",
       "unique           NaN            NaN           1184     230           51   \n",
       "top              NaN            NaN  United States     USA  2000 Summer   \n",
       "freq             NaN            NaN          17847   18853        13821   \n",
       "mean       175.33897      70.702393            NaN     NaN          NaN   \n",
       "std          9.27810      12.574690            NaN     NaN          NaN   \n",
       "min        127.00000      25.000000            NaN     NaN          NaN   \n",
       "25%        170.00000      63.000000            NaN     NaN          NaN   \n",
       "50%        175.33897      70.702393            NaN     NaN          NaN   \n",
       "75%        180.00000      75.000000            NaN     NaN          NaN   \n",
       "max        226.00000     214.000000            NaN     NaN          NaN   \n",
       "\n",
       "                 Year  Season    City      Sport                    Event  \\\n",
       "count   271116.000000  271116  271116     271116                   271116   \n",
       "unique            NaN       2      42         66                      765   \n",
       "top               NaN  Summer  London  Athletics  Football Men's Football   \n",
       "freq              NaN  222552   22426      38624                     5733   \n",
       "mean      1978.378480     NaN     NaN        NaN                      NaN   \n",
       "std         29.877632     NaN     NaN        NaN                      NaN   \n",
       "min       1896.000000     NaN     NaN        NaN                      NaN   \n",
       "25%       1960.000000     NaN     NaN        NaN                      NaN   \n",
       "50%       1988.000000     NaN     NaN        NaN                      NaN   \n",
       "75%       2002.000000     NaN     NaN        NaN                      NaN   \n",
       "max       2016.000000     NaN     NaN        NaN                      NaN   \n",
       "\n",
       "        Medal  \n",
       "count   39783  \n",
       "unique      3  \n",
       "top      Gold  \n",
       "freq    13372  \n",
       "mean      NaN  \n",
       "std       NaN  \n",
       "min       NaN  \n",
       "25%       NaN  \n",
       "50%       NaN  \n",
       "75%       NaN  \n",
       "max       NaN  "
      ]
     },
     "execution_count": 120,
     "metadata": {},
     "output_type": "execute_result"
    }
   ],
   "source": [
    "data.describe(include='all')"
   ]
  },
  {
   "cell_type": "code",
   "execution_count": null,
   "id": "6884e6c3-3b75-4ab7-b452-40ae4da597fc",
   "metadata": {},
   "outputs": [],
   "source": [
    "### CHECK FOR DUPLICATES ROWS"
   ]
  },
  {
   "cell_type": "code",
   "execution_count": 124,
   "id": "3d2012dd-802d-44e1-b267-9c8758cb995b",
   "metadata": {},
   "outputs": [
    {
     "data": {
      "text/plain": [
       "1385"
      ]
     },
     "execution_count": 124,
     "metadata": {},
     "output_type": "execute_result"
    }
   ],
   "source": [
    "data.duplicated().sum()"
   ]
  },
  {
   "cell_type": "code",
   "execution_count": 128,
   "id": "ebb1ae83-9174-4239-9e8f-519217779573",
   "metadata": {},
   "outputs": [
    {
     "data": {
      "text/html": [
       "<div>\n",
       "<style scoped>\n",
       "    .dataframe tbody tr th:only-of-type {\n",
       "        vertical-align: middle;\n",
       "    }\n",
       "\n",
       "    .dataframe tbody tr th {\n",
       "        vertical-align: top;\n",
       "    }\n",
       "\n",
       "    .dataframe thead th {\n",
       "        text-align: right;\n",
       "    }\n",
       "</style>\n",
       "<table border=\"1\" class=\"dataframe\">\n",
       "  <thead>\n",
       "    <tr style=\"text-align: right;\">\n",
       "      <th></th>\n",
       "      <th>ID</th>\n",
       "      <th>Name</th>\n",
       "      <th>Sex</th>\n",
       "      <th>Age</th>\n",
       "      <th>Height</th>\n",
       "      <th>Weight</th>\n",
       "      <th>Team</th>\n",
       "      <th>NOC</th>\n",
       "      <th>Games</th>\n",
       "      <th>Year</th>\n",
       "      <th>Season</th>\n",
       "      <th>City</th>\n",
       "      <th>Sport</th>\n",
       "      <th>Event</th>\n",
       "      <th>Medal</th>\n",
       "    </tr>\n",
       "  </thead>\n",
       "  <tbody>\n",
       "    <tr>\n",
       "      <th>1252</th>\n",
       "      <td>704</td>\n",
       "      <td>Dsir Antoine Acket</td>\n",
       "      <td>M</td>\n",
       "      <td>27.0</td>\n",
       "      <td>175.33897</td>\n",
       "      <td>70.702393</td>\n",
       "      <td>Belgium</td>\n",
       "      <td>BEL</td>\n",
       "      <td>1932 Summer</td>\n",
       "      <td>1932</td>\n",
       "      <td>Summer</td>\n",
       "      <td>Los Angeles</td>\n",
       "      <td>Art Competitions</td>\n",
       "      <td>Art Competitions Mixed Painting, Unknown Event</td>\n",
       "      <td>NaN</td>\n",
       "    </tr>\n",
       "    <tr>\n",
       "      <th>4282</th>\n",
       "      <td>2449</td>\n",
       "      <td>William Truman Aldrich</td>\n",
       "      <td>M</td>\n",
       "      <td>48.0</td>\n",
       "      <td>175.33897</td>\n",
       "      <td>70.702393</td>\n",
       "      <td>United States</td>\n",
       "      <td>USA</td>\n",
       "      <td>1928 Summer</td>\n",
       "      <td>1928</td>\n",
       "      <td>Summer</td>\n",
       "      <td>Amsterdam</td>\n",
       "      <td>Art Competitions</td>\n",
       "      <td>Art Competitions Mixed Painting, Drawings And ...</td>\n",
       "      <td>NaN</td>\n",
       "    </tr>\n",
       "    <tr>\n",
       "      <th>4283</th>\n",
       "      <td>2449</td>\n",
       "      <td>William Truman Aldrich</td>\n",
       "      <td>M</td>\n",
       "      <td>48.0</td>\n",
       "      <td>175.33897</td>\n",
       "      <td>70.702393</td>\n",
       "      <td>United States</td>\n",
       "      <td>USA</td>\n",
       "      <td>1928 Summer</td>\n",
       "      <td>1928</td>\n",
       "      <td>Summer</td>\n",
       "      <td>Amsterdam</td>\n",
       "      <td>Art Competitions</td>\n",
       "      <td>Art Competitions Mixed Painting, Drawings And ...</td>\n",
       "      <td>NaN</td>\n",
       "    </tr>\n",
       "    <tr>\n",
       "      <th>4862</th>\n",
       "      <td>2777</td>\n",
       "      <td>Hermann Reinhard Alker</td>\n",
       "      <td>M</td>\n",
       "      <td>43.0</td>\n",
       "      <td>175.33897</td>\n",
       "      <td>70.702393</td>\n",
       "      <td>Germany</td>\n",
       "      <td>GER</td>\n",
       "      <td>1928 Summer</td>\n",
       "      <td>1928</td>\n",
       "      <td>Summer</td>\n",
       "      <td>Amsterdam</td>\n",
       "      <td>Art Competitions</td>\n",
       "      <td>Art Competitions Mixed Architecture, Designs F...</td>\n",
       "      <td>NaN</td>\n",
       "    </tr>\n",
       "    <tr>\n",
       "      <th>4864</th>\n",
       "      <td>2777</td>\n",
       "      <td>Hermann Reinhard Alker</td>\n",
       "      <td>M</td>\n",
       "      <td>43.0</td>\n",
       "      <td>175.33897</td>\n",
       "      <td>70.702393</td>\n",
       "      <td>Germany</td>\n",
       "      <td>GER</td>\n",
       "      <td>1928 Summer</td>\n",
       "      <td>1928</td>\n",
       "      <td>Summer</td>\n",
       "      <td>Amsterdam</td>\n",
       "      <td>Art Competitions</td>\n",
       "      <td>Art Competitions Mixed Architecture, Architect...</td>\n",
       "      <td>NaN</td>\n",
       "    </tr>\n",
       "    <tr>\n",
       "      <th>...</th>\n",
       "      <td>...</td>\n",
       "      <td>...</td>\n",
       "      <td>...</td>\n",
       "      <td>...</td>\n",
       "      <td>...</td>\n",
       "      <td>...</td>\n",
       "      <td>...</td>\n",
       "      <td>...</td>\n",
       "      <td>...</td>\n",
       "      <td>...</td>\n",
       "      <td>...</td>\n",
       "      <td>...</td>\n",
       "      <td>...</td>\n",
       "      <td>...</td>\n",
       "      <td>...</td>\n",
       "    </tr>\n",
       "    <tr>\n",
       "      <th>269994</th>\n",
       "      <td>135072</td>\n",
       "      <td>Anna Katrina Zinkeisen (-Heseltine)</td>\n",
       "      <td>F</td>\n",
       "      <td>46.0</td>\n",
       "      <td>175.33897</td>\n",
       "      <td>70.702393</td>\n",
       "      <td>Great Britain</td>\n",
       "      <td>GBR</td>\n",
       "      <td>1948 Summer</td>\n",
       "      <td>1948</td>\n",
       "      <td>Summer</td>\n",
       "      <td>London</td>\n",
       "      <td>Art Competitions</td>\n",
       "      <td>Art Competitions Mixed Painting, Paintings</td>\n",
       "      <td>NaN</td>\n",
       "    </tr>\n",
       "    <tr>\n",
       "      <th>269995</th>\n",
       "      <td>135072</td>\n",
       "      <td>Anna Katrina Zinkeisen (-Heseltine)</td>\n",
       "      <td>F</td>\n",
       "      <td>46.0</td>\n",
       "      <td>175.33897</td>\n",
       "      <td>70.702393</td>\n",
       "      <td>Great Britain</td>\n",
       "      <td>GBR</td>\n",
       "      <td>1948 Summer</td>\n",
       "      <td>1948</td>\n",
       "      <td>Summer</td>\n",
       "      <td>London</td>\n",
       "      <td>Art Competitions</td>\n",
       "      <td>Art Competitions Mixed Painting, Paintings</td>\n",
       "      <td>NaN</td>\n",
       "    </tr>\n",
       "    <tr>\n",
       "      <th>269997</th>\n",
       "      <td>135072</td>\n",
       "      <td>Anna Katrina Zinkeisen (-Heseltine)</td>\n",
       "      <td>F</td>\n",
       "      <td>46.0</td>\n",
       "      <td>175.33897</td>\n",
       "      <td>70.702393</td>\n",
       "      <td>Great Britain</td>\n",
       "      <td>GBR</td>\n",
       "      <td>1948 Summer</td>\n",
       "      <td>1948</td>\n",
       "      <td>Summer</td>\n",
       "      <td>London</td>\n",
       "      <td>Art Competitions</td>\n",
       "      <td>Art Competitions Mixed Painting, Unknown Event</td>\n",
       "      <td>NaN</td>\n",
       "    </tr>\n",
       "    <tr>\n",
       "      <th>269999</th>\n",
       "      <td>135073</td>\n",
       "      <td>Doris Clare Zinkeisen (-Johnstone)</td>\n",
       "      <td>F</td>\n",
       "      <td>49.0</td>\n",
       "      <td>175.33897</td>\n",
       "      <td>70.702393</td>\n",
       "      <td>Great Britain</td>\n",
       "      <td>GBR</td>\n",
       "      <td>1948 Summer</td>\n",
       "      <td>1948</td>\n",
       "      <td>Summer</td>\n",
       "      <td>London</td>\n",
       "      <td>Art Competitions</td>\n",
       "      <td>Art Competitions Mixed Painting, Unknown Event</td>\n",
       "      <td>NaN</td>\n",
       "    </tr>\n",
       "    <tr>\n",
       "      <th>270200</th>\n",
       "      <td>135173</td>\n",
       "      <td>Henri Achille Zo</td>\n",
       "      <td>M</td>\n",
       "      <td>58.0</td>\n",
       "      <td>175.33897</td>\n",
       "      <td>70.702393</td>\n",
       "      <td>France</td>\n",
       "      <td>FRA</td>\n",
       "      <td>1932 Summer</td>\n",
       "      <td>1932</td>\n",
       "      <td>Summer</td>\n",
       "      <td>Los Angeles</td>\n",
       "      <td>Art Competitions</td>\n",
       "      <td>Art Competitions Mixed Painting, Unknown Event</td>\n",
       "      <td>NaN</td>\n",
       "    </tr>\n",
       "  </tbody>\n",
       "</table>\n",
       "<p>1385 rows × 15 columns</p>\n",
       "</div>"
      ],
      "text/plain": [
       "            ID                                 Name Sex   Age     Height  \\\n",
       "1252       704                   Dsir Antoine Acket   M  27.0  175.33897   \n",
       "4282      2449               William Truman Aldrich   M  48.0  175.33897   \n",
       "4283      2449               William Truman Aldrich   M  48.0  175.33897   \n",
       "4862      2777               Hermann Reinhard Alker   M  43.0  175.33897   \n",
       "4864      2777               Hermann Reinhard Alker   M  43.0  175.33897   \n",
       "...        ...                                  ...  ..   ...        ...   \n",
       "269994  135072  Anna Katrina Zinkeisen (-Heseltine)   F  46.0  175.33897   \n",
       "269995  135072  Anna Katrina Zinkeisen (-Heseltine)   F  46.0  175.33897   \n",
       "269997  135072  Anna Katrina Zinkeisen (-Heseltine)   F  46.0  175.33897   \n",
       "269999  135073   Doris Clare Zinkeisen (-Johnstone)   F  49.0  175.33897   \n",
       "270200  135173                     Henri Achille Zo   M  58.0  175.33897   \n",
       "\n",
       "           Weight           Team  NOC        Games  Year  Season         City  \\\n",
       "1252    70.702393        Belgium  BEL  1932 Summer  1932  Summer  Los Angeles   \n",
       "4282    70.702393  United States  USA  1928 Summer  1928  Summer    Amsterdam   \n",
       "4283    70.702393  United States  USA  1928 Summer  1928  Summer    Amsterdam   \n",
       "4862    70.702393        Germany  GER  1928 Summer  1928  Summer    Amsterdam   \n",
       "4864    70.702393        Germany  GER  1928 Summer  1928  Summer    Amsterdam   \n",
       "...           ...            ...  ...          ...   ...     ...          ...   \n",
       "269994  70.702393  Great Britain  GBR  1948 Summer  1948  Summer       London   \n",
       "269995  70.702393  Great Britain  GBR  1948 Summer  1948  Summer       London   \n",
       "269997  70.702393  Great Britain  GBR  1948 Summer  1948  Summer       London   \n",
       "269999  70.702393  Great Britain  GBR  1948 Summer  1948  Summer       London   \n",
       "270200  70.702393         France  FRA  1932 Summer  1932  Summer  Los Angeles   \n",
       "\n",
       "                   Sport                                              Event  \\\n",
       "1252    Art Competitions     Art Competitions Mixed Painting, Unknown Event   \n",
       "4282    Art Competitions  Art Competitions Mixed Painting, Drawings And ...   \n",
       "4283    Art Competitions  Art Competitions Mixed Painting, Drawings And ...   \n",
       "4862    Art Competitions  Art Competitions Mixed Architecture, Designs F...   \n",
       "4864    Art Competitions  Art Competitions Mixed Architecture, Architect...   \n",
       "...                  ...                                                ...   \n",
       "269994  Art Competitions         Art Competitions Mixed Painting, Paintings   \n",
       "269995  Art Competitions         Art Competitions Mixed Painting, Paintings   \n",
       "269997  Art Competitions     Art Competitions Mixed Painting, Unknown Event   \n",
       "269999  Art Competitions     Art Competitions Mixed Painting, Unknown Event   \n",
       "270200  Art Competitions     Art Competitions Mixed Painting, Unknown Event   \n",
       "\n",
       "       Medal  \n",
       "1252     NaN  \n",
       "4282     NaN  \n",
       "4283     NaN  \n",
       "4862     NaN  \n",
       "4864     NaN  \n",
       "...      ...  \n",
       "269994   NaN  \n",
       "269995   NaN  \n",
       "269997   NaN  \n",
       "269999   NaN  \n",
       "270200   NaN  \n",
       "\n",
       "[1385 rows x 15 columns]"
      ]
     },
     "execution_count": 128,
     "metadata": {},
     "output_type": "execute_result"
    }
   ],
   "source": [
    "data[data.duplicated()]"
   ]
  },
  {
   "cell_type": "code",
   "execution_count": 130,
   "id": "a525dfec-de32-4bc8-97bc-34303f4f8897",
   "metadata": {},
   "outputs": [],
   "source": [
    "data=data.drop_duplicates()"
   ]
  },
  {
   "cell_type": "code",
   "execution_count": 132,
   "id": "fe2a721a-b0cb-49e2-89ea-7912e3a84611",
   "metadata": {},
   "outputs": [
    {
     "data": {
      "text/plain": [
       "0"
      ]
     },
     "execution_count": 132,
     "metadata": {},
     "output_type": "execute_result"
    }
   ],
   "source": [
    "data.duplicated().sum()"
   ]
  },
  {
   "cell_type": "code",
   "execution_count": 136,
   "id": "e8346103-d365-4339-b95d-c736543af21c",
   "metadata": {},
   "outputs": [
    {
     "data": {
      "text/plain": [
       "(269731, 15)"
      ]
     },
     "execution_count": 136,
     "metadata": {},
     "output_type": "execute_result"
    }
   ],
   "source": [
    "data.shape"
   ]
  },
  {
   "cell_type": "code",
   "execution_count": null,
   "id": "9598011a-a9e5-48d5-b443-6a63ff139862",
   "metadata": {},
   "outputs": [],
   "source": [
    "### CORRELATION ANALYSIS"
   ]
  },
  {
   "cell_type": "code",
   "execution_count": 138,
   "id": "aacfb6ae-43d4-4622-9770-ee9c66e9f82b",
   "metadata": {},
   "outputs": [],
   "source": [
    "numerical_data=data.select_dtypes(include=['number'])\n"
   ]
  },
  {
   "cell_type": "code",
   "execution_count": 140,
   "id": "7934833f-13b0-430e-bc46-5cde90d92ce0",
   "metadata": {},
   "outputs": [
    {
     "data": {
      "text/html": [
       "<div>\n",
       "<style scoped>\n",
       "    .dataframe tbody tr th:only-of-type {\n",
       "        vertical-align: middle;\n",
       "    }\n",
       "\n",
       "    .dataframe tbody tr th {\n",
       "        vertical-align: top;\n",
       "    }\n",
       "\n",
       "    .dataframe thead th {\n",
       "        text-align: right;\n",
       "    }\n",
       "</style>\n",
       "<table border=\"1\" class=\"dataframe\">\n",
       "  <thead>\n",
       "    <tr style=\"text-align: right;\">\n",
       "      <th></th>\n",
       "      <th>ID</th>\n",
       "      <th>Age</th>\n",
       "      <th>Height</th>\n",
       "      <th>Weight</th>\n",
       "      <th>Year</th>\n",
       "    </tr>\n",
       "  </thead>\n",
       "  <tbody>\n",
       "    <tr>\n",
       "      <th>ID</th>\n",
       "      <td>1.000000</td>\n",
       "      <td>-0.002825</td>\n",
       "      <td>-0.009791</td>\n",
       "      <td>-0.008059</td>\n",
       "      <td>0.011381</td>\n",
       "    </tr>\n",
       "    <tr>\n",
       "      <th>Age</th>\n",
       "      <td>-0.002825</td>\n",
       "      <td>1.000000</td>\n",
       "      <td>0.111115</td>\n",
       "      <td>0.168071</td>\n",
       "      <td>-0.088250</td>\n",
       "    </tr>\n",
       "    <tr>\n",
       "      <th>Height</th>\n",
       "      <td>-0.009791</td>\n",
       "      <td>0.111115</td>\n",
       "      <td>1.000000</td>\n",
       "      <td>0.786635</td>\n",
       "      <td>0.030126</td>\n",
       "    </tr>\n",
       "    <tr>\n",
       "      <th>Weight</th>\n",
       "      <td>-0.008059</td>\n",
       "      <td>0.168071</td>\n",
       "      <td>0.786635</td>\n",
       "      <td>1.000000</td>\n",
       "      <td>0.011598</td>\n",
       "    </tr>\n",
       "    <tr>\n",
       "      <th>Year</th>\n",
       "      <td>0.011381</td>\n",
       "      <td>-0.088250</td>\n",
       "      <td>0.030126</td>\n",
       "      <td>0.011598</td>\n",
       "      <td>1.000000</td>\n",
       "    </tr>\n",
       "  </tbody>\n",
       "</table>\n",
       "</div>"
      ],
      "text/plain": [
       "              ID       Age    Height    Weight      Year\n",
       "ID      1.000000 -0.002825 -0.009791 -0.008059  0.011381\n",
       "Age    -0.002825  1.000000  0.111115  0.168071 -0.088250\n",
       "Height -0.009791  0.111115  1.000000  0.786635  0.030126\n",
       "Weight -0.008059  0.168071  0.786635  1.000000  0.011598\n",
       "Year    0.011381 -0.088250  0.030126  0.011598  1.000000"
      ]
     },
     "execution_count": 140,
     "metadata": {},
     "output_type": "execute_result"
    }
   ],
   "source": [
    "numerical_data.corr()"
   ]
  },
  {
   "cell_type": "code",
   "execution_count": 142,
   "id": "cab46eb7-cc6a-43b0-9467-dcc6ddf9eb47",
   "metadata": {},
   "outputs": [
    {
     "data": {
      "text/plain": [
       "<Axes: >"
      ]
     },
     "execution_count": 142,
     "metadata": {},
     "output_type": "execute_result"
    },
    {
     "data": {
      "image/png": "[encoded data removed]",
      "text/plain": [
       "<Figure size 640x480 with 2 Axes>"
      ]
     },
     "metadata": {},
     "output_type": "display_data"
    }
   ],
   "source": [
    "sns.heatmap(numerical_data.corr())"
   ]
  },
  {
   "cell_type": "markdown",
   "id": "058613ac-4def-42d3-b1ca-4eade788a650",
   "metadata": {},
   "source": [
    "### UNIVARIATE ANALYSIS"
   ]
  },
  {
   "cell_type": "code",
   "execution_count": null,
   "id": "6239aa03-e48e-478d-a2e1-ed41eeaf8334",
   "metadata": {},
   "outputs": [],
   "source": [
    "### CATEGORICAL DATA"
   ]
  },
  {
   "cell_type": "raw",
   "id": "cb47838c-5c77-4630-a64e-7af2ab060c9b",
   "metadata": {
    "scrolled": true
   },
   "source": [
    "data.head(1)"
   ]
  },
  {
   "cell_type": "code",
   "execution_count": null,
   "id": "ddf42777-f537-4c4b-b3b0-3cb0687c5afc",
   "metadata": {},
   "outputs": [],
   "source": [
    "### DISTRIBUTION OF ATHLETES BY GENDER (SEX)"
   ]
  },
  {
   "cell_type": "code",
   "execution_count": 148,
   "id": "f14648f0-3718-47fd-84fc-f766a1cd6f14",
   "metadata": {},
   "outputs": [
    {
     "data": {
      "text/plain": [
       "Index(['ID', 'Name', 'Sex', 'Age', 'Height', 'Weight', 'Team', 'NOC', 'Games',\n",
       "       'Year', 'Season', 'City', 'Sport', 'Event', 'Medal'],\n",
       "      dtype='object')"
      ]
     },
     "execution_count": 148,
     "metadata": {},
     "output_type": "execute_result"
    }
   ],
   "source": [
    "data.columns"
   ]
  },
  {
   "cell_type": "code",
   "execution_count": 150,
   "id": "8be9b593-5c34-41d9-94be-86853db75026",
   "metadata": {},
   "outputs": [
    {
     "data": {
      "text/plain": [
       "Sex\n",
       "M    195353\n",
       "F     74378\n",
       "Name: count, dtype: int64"
      ]
     },
     "execution_count": 150,
     "metadata": {},
     "output_type": "execute_result"
    }
   ],
   "source": [
    "data['Sex'].value_counts()"
   ]
  },
  {
   "cell_type": "code",
   "execution_count": 154,
   "id": "2bc51665-927c-4ff3-b256-f5c08df43a64",
   "metadata": {},
   "outputs": [
    {
     "data": {
      "text/plain": [
       "<Axes: xlabel='Sex'>"
      ]
     },
     "execution_count": 154,
     "metadata": {},
     "output_type": "execute_result"
    },
    {
     "data": {
      "image/png": "[encoded data removed]",
      "text/plain": [
       "<Figure size 640x480 with 1 Axes>"
      ]
     },
     "metadata": {},
     "output_type": "display_data"
    }
   ],
   "source": [
    "gen_dist=data['Sex'].value_counts()\n",
    "sns.barplot(x=gen_dist.index,y=gen_dist.values)"
   ]
  },
  {
   "cell_type": "code",
   "execution_count": null,
   "id": "f50a92b7-6f5e-4d62-8a40-08389bf68e94",
   "metadata": {},
   "outputs": [],
   "source": [
    "gen_dist.index"
   ]
  },
  {
   "cell_type": "code",
   "execution_count": null,
   "id": "5a9908c0-e080-4f60-9286-12b8e4dd8824",
   "metadata": {},
   "outputs": [],
   "source": [
    "gen_dist.values"
   ]
  },
  {
   "cell_type": "code",
   "execution_count": 156,
   "id": "99d53b4b-5d6c-458d-ba68-3c3a1292b2d5",
   "metadata": {},
   "outputs": [
    {
     "data": {
      "image/png": "[encoded data removed]",
      "text/plain": [
       "<Figure size 800x400 with 1 Axes>"
      ]
     },
     "metadata": {},
     "output_type": "display_data"
    }
   ],
   "source": [
    "gen_dist = data['Sex'].value_counts()\n",
    "plt.figure(figsize =( 8,4))\n",
    "sns.barplot(x=gen_dist.index,y=gen_dist.values)\n",
    "plt.title(\"Gender Distribution in the olympics\")\n",
    "plt.xlabel(\"Gender\")\n",
    "plt.ylabel(\"count\")\n",
    "plt.show()\n"
   ]
  },
  {
   "cell_type": "code",
   "execution_count": null,
   "id": "5ed76666-ba9b-4a45-8018-ecc5fb42a793",
   "metadata": {},
   "outputs": [],
   "source": [
    "## DISPLAY THE TOP 10 MOST POPULAR SPORTS BASED ON THE ATHLETE PARTICIPATION"
   ]
  },
  {
   "cell_type": "code",
   "execution_count": 158,
   "id": "b760bed8-aee9-4c9d-8f3a-f742f3a5a3b9",
   "metadata": {},
   "outputs": [
    {
     "data": {
      "text/html": [
       "<div>\n",
       "<style scoped>\n",
       "    .dataframe tbody tr th:only-of-type {\n",
       "        vertical-align: middle;\n",
       "    }\n",
       "\n",
       "    .dataframe tbody tr th {\n",
       "        vertical-align: top;\n",
       "    }\n",
       "\n",
       "    .dataframe thead th {\n",
       "        text-align: right;\n",
       "    }\n",
       "</style>\n",
       "<table border=\"1\" class=\"dataframe\">\n",
       "  <thead>\n",
       "    <tr style=\"text-align: right;\">\n",
       "      <th></th>\n",
       "      <th>ID</th>\n",
       "      <th>Name</th>\n",
       "      <th>Sex</th>\n",
       "      <th>Age</th>\n",
       "      <th>Height</th>\n",
       "      <th>Weight</th>\n",
       "      <th>Team</th>\n",
       "      <th>NOC</th>\n",
       "      <th>Games</th>\n",
       "      <th>Year</th>\n",
       "      <th>Season</th>\n",
       "      <th>City</th>\n",
       "      <th>Sport</th>\n",
       "      <th>Event</th>\n",
       "      <th>Medal</th>\n",
       "    </tr>\n",
       "  </thead>\n",
       "  <tbody>\n",
       "    <tr>\n",
       "      <th>0</th>\n",
       "      <td>1</td>\n",
       "      <td>A Dijiang</td>\n",
       "      <td>M</td>\n",
       "      <td>24.0</td>\n",
       "      <td>180.0</td>\n",
       "      <td>80.0</td>\n",
       "      <td>China</td>\n",
       "      <td>CHN</td>\n",
       "      <td>1992 Summer</td>\n",
       "      <td>1992</td>\n",
       "      <td>Summer</td>\n",
       "      <td>Barcelona</td>\n",
       "      <td>Basketball</td>\n",
       "      <td>Basketball Men's Basketball</td>\n",
       "      <td>NaN</td>\n",
       "    </tr>\n",
       "  </tbody>\n",
       "</table>\n",
       "</div>"
      ],
      "text/plain": [
       "   ID       Name Sex   Age  Height  Weight   Team  NOC        Games  Year  \\\n",
       "0   1  A Dijiang   M  24.0   180.0    80.0  China  CHN  1992 Summer  1992   \n",
       "\n",
       "   Season       City       Sport                        Event Medal  \n",
       "0  Summer  Barcelona  Basketball  Basketball Men's Basketball   NaN  "
      ]
     },
     "execution_count": 158,
     "metadata": {},
     "output_type": "execute_result"
    }
   ],
   "source": [
    "data.head(1)"
   ]
  },
  {
   "cell_type": "code",
   "execution_count": 160,
   "id": "b5bee3be-4637-4f7f-8177-888ceff05322",
   "metadata": {},
   "outputs": [
    {
     "data": {
      "image/png": "[encoded data removed]",
      "text/plain": [
       "<Figure size 800x400 with 1 Axes>"
      ]
     },
     "metadata": {},
     "output_type": "display_data"
    }
   ],
   "source": [
    "top= data['Sport'].value_counts().head(10)\n",
    "plt.figure(figsize=(8,4))\n",
    "sns.barplot(x=top.values,y=top.index)\n",
    "plt.title(\"Top 10 sports by participation\")\n",
    "plt.xlabel(\"Number of athletes\")\n",
    "plt.ylabel(\"sports\")\n",
    "plt.show()\n",
    "\n"
   ]
  },
  {
   "cell_type": "code",
   "execution_count": 162,
   "id": "068b538d-ac53-4a33-8bf2-b995202fcd07",
   "metadata": {},
   "outputs": [
    {
     "data": {
      "text/plain": [
       "<Axes: ylabel='count'>"
      ]
     },
     "execution_count": 162,
     "metadata": {},
     "output_type": "execute_result"
    },
    {
     "data": {
      "image/png": "[encoded data removed]",
      "text/plain": [
       "<Figure size 640x480 with 1 Axes>"
      ]
     },
     "metadata": {},
     "output_type": "display_data"
    }
   ],
   "source": [
    "data['Sport'].value_counts().head(10).plot(kind='pie',autopct=\"%1.2f%%\")"
   ]
  },
  {
   "cell_type": "code",
   "execution_count": null,
   "id": "45707cdc-3949-45d2-adc0-f09278aa7ee8",
   "metadata": {},
   "outputs": [],
   "source": [
    "## FIND THE MOST POPULAR SPORT BASED ON THE ATHLETE PARTICIPATION"
   ]
  },
  {
   "cell_type": "code",
   "execution_count": 166,
   "id": "7ead114b-4cc1-492f-88bc-30dec0599c15",
   "metadata": {},
   "outputs": [
    {
     "data": {
      "text/plain": [
       "'Athletics'"
      ]
     },
     "execution_count": 166,
     "metadata": {},
     "output_type": "execute_result"
    }
   ],
   "source": [
    "data['Sport'].value_counts().idxmax()"
   ]
  },
  {
   "cell_type": "code",
   "execution_count": 168,
   "id": "decae3d8-599f-4191-8ea5-edd8c6e5e6aa",
   "metadata": {},
   "outputs": [
    {
     "data": {
      "text/plain": [
       "Sport\n",
       "Athletics        38624\n",
       "Gymnastics       26707\n",
       "Swimming         23195\n",
       "Shooting         11448\n",
       "Cycling          10827\n",
       "                 ...  \n",
       "Racquets            12\n",
       "Jeu De Paume        11\n",
       "Roque                4\n",
       "Basque Pelota        2\n",
       "Aeronautics          1\n",
       "Name: count, Length: 66, dtype: int64"
      ]
     },
     "execution_count": 168,
     "metadata": {},
     "output_type": "execute_result"
    }
   ],
   "source": [
    "data['Sport'].value_counts()"
   ]
  },
  {
   "cell_type": "markdown",
   "id": "1c98f6f6-3bd4-462d-a2de-c5aec5bb19f4",
   "metadata": {},
   "source": [
    "### NUMERICAL DATA"
   ]
  },
  {
   "cell_type": "code",
   "execution_count": 170,
   "id": "1058078c-ebe7-4f38-a868-c6e97b39d28d",
   "metadata": {},
   "outputs": [
    {
     "data": {
      "text/html": [
       "<div>\n",
       "<style scoped>\n",
       "    .dataframe tbody tr th:only-of-type {\n",
       "        vertical-align: middle;\n",
       "    }\n",
       "\n",
       "    .dataframe tbody tr th {\n",
       "        vertical-align: top;\n",
       "    }\n",
       "\n",
       "    .dataframe thead th {\n",
       "        text-align: right;\n",
       "    }\n",
       "</style>\n",
       "<table border=\"1\" class=\"dataframe\">\n",
       "  <thead>\n",
       "    <tr style=\"text-align: right;\">\n",
       "      <th></th>\n",
       "      <th>ID</th>\n",
       "      <th>Name</th>\n",
       "      <th>Sex</th>\n",
       "      <th>Age</th>\n",
       "      <th>Height</th>\n",
       "      <th>Weight</th>\n",
       "      <th>Team</th>\n",
       "      <th>NOC</th>\n",
       "      <th>Games</th>\n",
       "      <th>Year</th>\n",
       "      <th>Season</th>\n",
       "      <th>City</th>\n",
       "      <th>Sport</th>\n",
       "      <th>Event</th>\n",
       "      <th>Medal</th>\n",
       "    </tr>\n",
       "  </thead>\n",
       "  <tbody>\n",
       "    <tr>\n",
       "      <th>0</th>\n",
       "      <td>1</td>\n",
       "      <td>A Dijiang</td>\n",
       "      <td>M</td>\n",
       "      <td>24.0</td>\n",
       "      <td>180.0</td>\n",
       "      <td>80.0</td>\n",
       "      <td>China</td>\n",
       "      <td>CHN</td>\n",
       "      <td>1992 Summer</td>\n",
       "      <td>1992</td>\n",
       "      <td>Summer</td>\n",
       "      <td>Barcelona</td>\n",
       "      <td>Basketball</td>\n",
       "      <td>Basketball Men's Basketball</td>\n",
       "      <td>NaN</td>\n",
       "    </tr>\n",
       "  </tbody>\n",
       "</table>\n",
       "</div>"
      ],
      "text/plain": [
       "   ID       Name Sex   Age  Height  Weight   Team  NOC        Games  Year  \\\n",
       "0   1  A Dijiang   M  24.0   180.0    80.0  China  CHN  1992 Summer  1992   \n",
       "\n",
       "   Season       City       Sport                        Event Medal  \n",
       "0  Summer  Barcelona  Basketball  Basketball Men's Basketball   NaN  "
      ]
     },
     "execution_count": 170,
     "metadata": {},
     "output_type": "execute_result"
    }
   ],
   "source": [
    "data.head(1)"
   ]
  },
  {
   "cell_type": "code",
   "execution_count": null,
   "id": "53940ace-b679-4849-9b54-100328894336",
   "metadata": {},
   "outputs": [],
   "source": [
    "### check the Distribution of Age"
   ]
  },
  {
   "cell_type": "code",
   "execution_count": 172,
   "id": "d1219c27-e36e-476f-9f17-47dbb1e47b38",
   "metadata": {},
   "outputs": [
    {
     "data": {
      "text/plain": [
       "<Axes: xlabel='Age', ylabel='Count'>"
      ]
     },
     "execution_count": 172,
     "metadata": {},
     "output_type": "execute_result"
    },
    {
     "data": {
      "image/png": "[encoded data removed]",
      "text/plain": [
       "<Figure size 640x480 with 1 Axes>"
      ]
     },
     "metadata": {},
     "output_type": "display_data"
    }
   ],
   "source": [
    "sns.histplot(data['Age'],bins=20,kde=True)   ### karnal density estimate"
   ]
  },
  {
   "cell_type": "code",
   "execution_count": 174,
   "id": "a3d5c606-68c0-4962-aa99-9357b5185b05",
   "metadata": {},
   "outputs": [
    {
     "data": {
      "text/plain": [
       "<Axes: xlabel='Age'>"
      ]
     },
     "execution_count": 174,
     "metadata": {},
     "output_type": "execute_result"
    },
    {
     "data": {
      "image/png": "[encoded data removed]",
      "text/plain": [
       "<Figure size 640x480 with 1 Axes>"
      ]
     },
     "metadata": {},
     "output_type": "display_data"
    }
   ],
   "source": [
    "sns.boxplot(x=data['Age'])"
   ]
  },
  {
   "cell_type": "code",
   "execution_count": 178,
   "id": "909b0a92-ab56-4261-9909-500f8061294b",
   "metadata": {},
   "outputs": [
    {
     "data": {
      "text/plain": [
       "10.0"
      ]
     },
     "execution_count": 178,
     "metadata": {},
     "output_type": "execute_result"
    }
   ],
   "source": [
    "data['Age'].min()"
   ]
  },
  {
   "cell_type": "code",
   "execution_count": 180,
   "id": "08c0fdc3-805e-45df-903a-5bd7d8c7f53c",
   "metadata": {},
   "outputs": [
    {
     "data": {
      "text/plain": [
       "97.0"
      ]
     },
     "execution_count": 180,
     "metadata": {},
     "output_type": "execute_result"
    }
   ],
   "source": [
    "data['Age'].max()"
   ]
  },
  {
   "cell_type": "code",
   "execution_count": 182,
   "id": "d6cb02b8-a47a-413d-a519-3836e4ddc897",
   "metadata": {},
   "outputs": [
    {
     "data": {
      "text/plain": [
       "25.458302932173996"
      ]
     },
     "execution_count": 182,
     "metadata": {},
     "output_type": "execute_result"
    }
   ],
   "source": [
    "data['Age'].mean()"
   ]
  },
  {
   "cell_type": "code",
   "execution_count": 184,
   "id": "51c08d4c-1399-4e33-aad2-18328017d822",
   "metadata": {},
   "outputs": [
    {
     "data": {
      "text/plain": [
       "1.5877141959478527"
      ]
     },
     "execution_count": 184,
     "metadata": {},
     "output_type": "execute_result"
    }
   ],
   "source": [
    "data['Age'].skew()"
   ]
  },
  {
   "cell_type": "markdown",
   "id": "8a0c4138-686e-4863-9dea-026388060871",
   "metadata": {},
   "source": [
    "### BIVARIATE ANALYSIS AND MULTIVARIATE ANALYSIS"
   ]
  },
  {
   "cell_type": "code",
   "execution_count": null,
   "id": "336c0b7f-6e5b-4e19-af85-dab880a9f062",
   "metadata": {},
   "outputs": [],
   "source": [
    "## NUMERICAL-NUMERICAL REATIONSHIPS"
   ]
  },
  {
   "cell_type": "code",
   "execution_count": 218,
   "id": "0701c9ee-ff9d-48c2-9e2a-7dc0304198bb",
   "metadata": {},
   "outputs": [
    {
     "data": {
      "text/html": [
       "<div>\n",
       "<style scoped>\n",
       "    .dataframe tbody tr th:only-of-type {\n",
       "        vertical-align: middle;\n",
       "    }\n",
       "\n",
       "    .dataframe tbody tr th {\n",
       "        vertical-align: top;\n",
       "    }\n",
       "\n",
       "    .dataframe thead th {\n",
       "        text-align: right;\n",
       "    }\n",
       "</style>\n",
       "<table border=\"1\" class=\"dataframe\">\n",
       "  <thead>\n",
       "    <tr style=\"text-align: right;\">\n",
       "      <th></th>\n",
       "      <th>ID</th>\n",
       "      <th>Name</th>\n",
       "      <th>Sex</th>\n",
       "      <th>Age</th>\n",
       "      <th>Height</th>\n",
       "      <th>Weight</th>\n",
       "      <th>Team</th>\n",
       "      <th>NOC</th>\n",
       "      <th>Games</th>\n",
       "      <th>Year</th>\n",
       "      <th>Season</th>\n",
       "      <th>City</th>\n",
       "      <th>Sport</th>\n",
       "      <th>Event</th>\n",
       "      <th>Medal</th>\n",
       "    </tr>\n",
       "  </thead>\n",
       "  <tbody>\n",
       "    <tr>\n",
       "      <th>0</th>\n",
       "      <td>1</td>\n",
       "      <td>A Dijiang</td>\n",
       "      <td>M</td>\n",
       "      <td>24.0</td>\n",
       "      <td>180.0</td>\n",
       "      <td>80.0</td>\n",
       "      <td>China</td>\n",
       "      <td>CHN</td>\n",
       "      <td>1992 Summer</td>\n",
       "      <td>1992</td>\n",
       "      <td>Summer</td>\n",
       "      <td>Barcelona</td>\n",
       "      <td>Basketball</td>\n",
       "      <td>Basketball Men's Basketball</td>\n",
       "      <td>NaN</td>\n",
       "    </tr>\n",
       "  </tbody>\n",
       "</table>\n",
       "</div>"
      ],
      "text/plain": [
       "   ID       Name Sex   Age  Height  Weight   Team  NOC        Games  Year  \\\n",
       "0   1  A Dijiang   M  24.0   180.0    80.0  China  CHN  1992 Summer  1992   \n",
       "\n",
       "   Season       City       Sport                        Event Medal  \n",
       "0  Summer  Barcelona  Basketball  Basketball Men's Basketball   NaN  "
      ]
     },
     "execution_count": 218,
     "metadata": {},
     "output_type": "execute_result"
    }
   ],
   "source": [
    "data.head(1)"
   ]
  },
  {
   "cell_type": "code",
   "execution_count": 222,
   "id": "08ee6e58-dcf2-45b7-ac40-947f530f3977",
   "metadata": {},
   "outputs": [
    {
     "data": {
      "text/plain": [
       "<Axes: xlabel='Age', ylabel='Height'>"
      ]
     },
     "execution_count": 222,
     "metadata": {},
     "output_type": "execute_result"
    },
    {
     "data": {
      "image/png": "[encoded data removed]",
      "text/plain": [
       "<Figure size 500x400 with 1 Axes>"
      ]
     },
     "metadata": {},
     "output_type": "display_data"
    }
   ],
   "source": [
    "plt.figure(figsize=(5,4))\n",
    "sns.scatterplot(x='Age',y='Height',data=data)"
   ]
  },
  {
   "cell_type": "code",
   "execution_count": 228,
   "id": "923e7627-4e50-4e4c-bdce-ddf09d7234b6",
   "metadata": {},
   "outputs": [
    {
     "data": {
      "text/plain": [
       "<Axes: xlabel='Age', ylabel='Height'>"
      ]
     },
     "execution_count": 228,
     "metadata": {},
     "output_type": "execute_result"
    },
    {
     "data": {
      "image/png": "[encoded data removed]",
      "text/plain": [
       "<Figure size 500x400 with 1 Axes>"
      ]
     },
     "metadata": {},
     "output_type": "display_data"
    }
   ],
   "source": [
    "plt.figure(figsize=(5,4))\n",
    "sns.scatterplot(x='Age',y='Height',hue='Sex',data=data)"
   ]
  },
  {
   "cell_type": "code",
   "execution_count": null,
   "id": "b7312807-c7d7-424c-904c-d5963657259d",
   "metadata": {},
   "outputs": [],
   "source": [
    "## NUMERICAL-CATEGORICAL RELATIONSHIPS (AGE DISTRIBUTION BY MEDAL TYPE)"
   ]
  },
  {
   "cell_type": "code",
   "execution_count": 230,
   "id": "9b1a06fc-c8db-42c7-820f-a7bfc15617fb",
   "metadata": {},
   "outputs": [
    {
     "data": {
      "text/html": [
       "<div>\n",
       "<style scoped>\n",
       "    .dataframe tbody tr th:only-of-type {\n",
       "        vertical-align: middle;\n",
       "    }\n",
       "\n",
       "    .dataframe tbody tr th {\n",
       "        vertical-align: top;\n",
       "    }\n",
       "\n",
       "    .dataframe thead th {\n",
       "        text-align: right;\n",
       "    }\n",
       "</style>\n",
       "<table border=\"1\" class=\"dataframe\">\n",
       "  <thead>\n",
       "    <tr style=\"text-align: right;\">\n",
       "      <th></th>\n",
       "      <th>ID</th>\n",
       "      <th>Name</th>\n",
       "      <th>Sex</th>\n",
       "      <th>Age</th>\n",
       "      <th>Height</th>\n",
       "      <th>Weight</th>\n",
       "      <th>Team</th>\n",
       "      <th>NOC</th>\n",
       "      <th>Games</th>\n",
       "      <th>Year</th>\n",
       "      <th>Season</th>\n",
       "      <th>City</th>\n",
       "      <th>Sport</th>\n",
       "      <th>Event</th>\n",
       "      <th>Medal</th>\n",
       "    </tr>\n",
       "  </thead>\n",
       "  <tbody>\n",
       "    <tr>\n",
       "      <th>0</th>\n",
       "      <td>1</td>\n",
       "      <td>A Dijiang</td>\n",
       "      <td>M</td>\n",
       "      <td>24.0</td>\n",
       "      <td>180.0</td>\n",
       "      <td>80.0</td>\n",
       "      <td>China</td>\n",
       "      <td>CHN</td>\n",
       "      <td>1992 Summer</td>\n",
       "      <td>1992</td>\n",
       "      <td>Summer</td>\n",
       "      <td>Barcelona</td>\n",
       "      <td>Basketball</td>\n",
       "      <td>Basketball Men's Basketball</td>\n",
       "      <td>NaN</td>\n",
       "    </tr>\n",
       "  </tbody>\n",
       "</table>\n",
       "</div>"
      ],
      "text/plain": [
       "   ID       Name Sex   Age  Height  Weight   Team  NOC        Games  Year  \\\n",
       "0   1  A Dijiang   M  24.0   180.0    80.0  China  CHN  1992 Summer  1992   \n",
       "\n",
       "   Season       City       Sport                        Event Medal  \n",
       "0  Summer  Barcelona  Basketball  Basketball Men's Basketball   NaN  "
      ]
     },
     "execution_count": 230,
     "metadata": {},
     "output_type": "execute_result"
    }
   ],
   "source": [
    "data.head(1)"
   ]
  },
  {
   "cell_type": "code",
   "execution_count": 236,
   "id": "2747b5cb-026c-408e-904b-2ac453675138",
   "metadata": {},
   "outputs": [
    {
     "data": {
      "text/plain": [
       "<Axes: xlabel='Medal', ylabel='Age'>"
      ]
     },
     "execution_count": 236,
     "metadata": {},
     "output_type": "execute_result"
    },
    {
     "data": {
      "image/png": "[encoded data removed]",
      "text/plain": [
       "<Figure size 640x480 with 1 Axes>"
      ]
     },
     "metadata": {},
     "output_type": "display_data"
    }
   ],
   "source": [
    "sns.barplot(x='Medal',y='Age',data=data)\n"
   ]
  },
  {
   "cell_type": "code",
   "execution_count": 238,
   "id": "637dccef-b8f7-4df8-9efa-9ac626eb47e5",
   "metadata": {},
   "outputs": [
    {
     "data": {
      "text/plain": [
       "<Axes: xlabel='Medal', ylabel='Age'>"
      ]
     },
     "execution_count": 238,
     "metadata": {},
     "output_type": "execute_result"
    },
    {
     "data": {
      "image/png": "[encoded data removed]",
      "text/plain": [
       "<Figure size 640x480 with 1 Axes>"
      ]
     },
     "metadata": {},
     "output_type": "display_data"
    }
   ],
   "source": [
    "sns.boxplot(x='Medal',y='Age',data=data)"
   ]
  },
  {
   "cell_type": "code",
   "execution_count": 240,
   "id": "6c4a6e11-b46d-4753-93bc-c9af11bc4b62",
   "metadata": {},
   "outputs": [
    {
     "data": {
      "text/plain": [
       "<Axes: xlabel='Medal', ylabel='Age'>"
      ]
     },
     "execution_count": 240,
     "metadata": {},
     "output_type": "execute_result"
    },
    {
     "data": {
      "image/png": "[encoded data removed]",
      "text/plain": [
       "<Figure size 640x480 with 1 Axes>"
      ]
     },
     "metadata": {},
     "output_type": "display_data"
    }
   ],
   "source": [
    "sns.boxplot(x='Medal',y='Age',hue='Sex',data=data)"
   ]
  },
  {
   "cell_type": "code",
   "execution_count": null,
   "id": "0dee8c11-5456-4952-bda3-44ba69456e05",
   "metadata": {},
   "outputs": [],
   "source": [
    "## CATEGORICAL-CATEGORICAL RELATIONSHIPS"
   ]
  },
  {
   "cell_type": "code",
   "execution_count": null,
   "id": "c60a7592-8700-4170-8aba-979f50749454",
   "metadata": {},
   "outputs": [],
   "source": [
    "## HOW MANY GOLD ,SILVER ,AND BRONZE MEDALS HAVE BEEN AWARDED TO MALE AND FEMALE ATHELETS?"
   ]
  },
  {
   "cell_type": "code",
   "execution_count": 242,
   "id": "db9c9bd3-c1e5-4137-9942-f5c4cf708c3a",
   "metadata": {},
   "outputs": [],
   "source": [
    "con=pd.crosstab(data['Sex'],data['Medal'])"
   ]
  },
  {
   "cell_type": "code",
   "execution_count": 244,
   "id": "29ed20ef-7a78-4c62-b7cb-d46838cbd8ba",
   "metadata": {},
   "outputs": [
    {
     "data": {
      "text/html": [
       "<div>\n",
       "<style scoped>\n",
       "    .dataframe tbody tr th:only-of-type {\n",
       "        vertical-align: middle;\n",
       "    }\n",
       "\n",
       "    .dataframe tbody tr th {\n",
       "        vertical-align: top;\n",
       "    }\n",
       "\n",
       "    .dataframe thead th {\n",
       "        text-align: right;\n",
       "    }\n",
       "</style>\n",
       "<table border=\"1\" class=\"dataframe\">\n",
       "  <thead>\n",
       "    <tr style=\"text-align: right;\">\n",
       "      <th>Medal</th>\n",
       "      <th>Bronze</th>\n",
       "      <th>Gold</th>\n",
       "      <th>Silver</th>\n",
       "    </tr>\n",
       "    <tr>\n",
       "      <th>Sex</th>\n",
       "      <th></th>\n",
       "      <th></th>\n",
       "      <th></th>\n",
       "    </tr>\n",
       "  </thead>\n",
       "  <tbody>\n",
       "    <tr>\n",
       "      <th>F</th>\n",
       "      <td>3771</td>\n",
       "      <td>3747</td>\n",
       "      <td>3735</td>\n",
       "    </tr>\n",
       "    <tr>\n",
       "      <th>M</th>\n",
       "      <td>9524</td>\n",
       "      <td>9622</td>\n",
       "      <td>9373</td>\n",
       "    </tr>\n",
       "  </tbody>\n",
       "</table>\n",
       "</div>"
      ],
      "text/plain": [
       "Medal  Bronze  Gold  Silver\n",
       "Sex                        \n",
       "F        3771  3747    3735\n",
       "M        9524  9622    9373"
      ]
     },
     "execution_count": 244,
     "metadata": {},
     "output_type": "execute_result"
    }
   ],
   "source": [
    "con"
   ]
  },
  {
   "cell_type": "code",
   "execution_count": 252,
   "id": "e7660cb1-088c-41f6-8303-709bdabcfbf0",
   "metadata": {},
   "outputs": [
    {
     "data": {
      "text/plain": [
       "<Axes: xlabel='Medal', ylabel='Sex'>"
      ]
     },
     "execution_count": 252,
     "metadata": {},
     "output_type": "execute_result"
    },
    {
     "data": {
      "image/png": "[encoded data removed]",
      "text/plain": [
       "<Figure size 640x480 with 2 Axes>"
      ]
     },
     "metadata": {},
     "output_type": "display_data"
    }
   ],
   "source": [
    "sns.heatmap(pd.crosstab(data['Sex'],data['Medal']))"
   ]
  },
  {
   "cell_type": "markdown",
   "id": "3c3f73c6-84df-4e62-b13d-c88fce7470c6",
   "metadata": {},
   "source": [
    "### NUMERICAL-NUMERICAL RELATIONSHIPS"
   ]
  },
  {
   "cell_type": "code",
   "execution_count": null,
   "id": "8a7ecef4-4faf-426a-9f93-6158831bcbf6",
   "metadata": {},
   "outputs": [],
   "source": [
    "## DISPLAY MEDAL PERFORMANCE FOR A SPECIFIC COUNTRY PER YEAR"
   ]
  },
  {
   "cell_type": "code",
   "execution_count": 274,
   "id": "2837f3b8-1c25-4112-9eab-342dd6fd95d3",
   "metadata": {},
   "outputs": [],
   "source": [
    "df_india =data[data['Team']=='india']"
   ]
  },
  {
   "cell_type": "code",
   "execution_count": 254,
   "id": "7c256a76-4bd1-44a8-a0e8-9b58a8dc2239",
   "metadata": {},
   "outputs": [
    {
     "data": {
      "text/html": [
       "<div>\n",
       "<style scoped>\n",
       "    .dataframe tbody tr th:only-of-type {\n",
       "        vertical-align: middle;\n",
       "    }\n",
       "\n",
       "    .dataframe tbody tr th {\n",
       "        vertical-align: top;\n",
       "    }\n",
       "\n",
       "    .dataframe thead th {\n",
       "        text-align: right;\n",
       "    }\n",
       "</style>\n",
       "<table border=\"1\" class=\"dataframe\">\n",
       "  <thead>\n",
       "    <tr style=\"text-align: right;\">\n",
       "      <th></th>\n",
       "      <th>ID</th>\n",
       "      <th>Name</th>\n",
       "      <th>Sex</th>\n",
       "      <th>Age</th>\n",
       "      <th>Height</th>\n",
       "      <th>Weight</th>\n",
       "      <th>Team</th>\n",
       "      <th>NOC</th>\n",
       "      <th>Games</th>\n",
       "      <th>Year</th>\n",
       "      <th>Season</th>\n",
       "      <th>City</th>\n",
       "      <th>Sport</th>\n",
       "      <th>Event</th>\n",
       "      <th>Medal</th>\n",
       "    </tr>\n",
       "  </thead>\n",
       "  <tbody>\n",
       "    <tr>\n",
       "      <th>0</th>\n",
       "      <td>1</td>\n",
       "      <td>A Dijiang</td>\n",
       "      <td>M</td>\n",
       "      <td>24.0</td>\n",
       "      <td>180.0</td>\n",
       "      <td>80.0</td>\n",
       "      <td>China</td>\n",
       "      <td>CHN</td>\n",
       "      <td>1992 Summer</td>\n",
       "      <td>1992</td>\n",
       "      <td>Summer</td>\n",
       "      <td>Barcelona</td>\n",
       "      <td>Basketball</td>\n",
       "      <td>Basketball Men's Basketball</td>\n",
       "      <td>NaN</td>\n",
       "    </tr>\n",
       "  </tbody>\n",
       "</table>\n",
       "</div>"
      ],
      "text/plain": [
       "   ID       Name Sex   Age  Height  Weight   Team  NOC        Games  Year  \\\n",
       "0   1  A Dijiang   M  24.0   180.0    80.0  China  CHN  1992 Summer  1992   \n",
       "\n",
       "   Season       City       Sport                        Event Medal  \n",
       "0  Summer  Barcelona  Basketball  Basketball Men's Basketball   NaN  "
      ]
     },
     "execution_count": 254,
     "metadata": {},
     "output_type": "execute_result"
    }
   ],
   "source": [
    "data.head(1)"
   ]
  },
  {
   "cell_type": "code",
   "execution_count": 306,
   "id": "3f0cbfe8-7a9a-4b2a-b700-47a6aa9a7f0b",
   "metadata": {},
   "outputs": [
    {
     "data": {
      "text/html": [
       "<div>\n",
       "<style scoped>\n",
       "    .dataframe tbody tr th:only-of-type {\n",
       "        vertical-align: middle;\n",
       "    }\n",
       "\n",
       "    .dataframe tbody tr th {\n",
       "        vertical-align: top;\n",
       "    }\n",
       "\n",
       "    .dataframe thead th {\n",
       "        text-align: right;\n",
       "    }\n",
       "</style>\n",
       "<table border=\"1\" class=\"dataframe\">\n",
       "  <thead>\n",
       "    <tr style=\"text-align: right;\">\n",
       "      <th></th>\n",
       "      <th>ID</th>\n",
       "      <th>Name</th>\n",
       "      <th>Sex</th>\n",
       "      <th>Age</th>\n",
       "      <th>Height</th>\n",
       "      <th>Weight</th>\n",
       "      <th>Team</th>\n",
       "      <th>NOC</th>\n",
       "      <th>Games</th>\n",
       "      <th>Year</th>\n",
       "      <th>Season</th>\n",
       "      <th>City</th>\n",
       "      <th>Sport</th>\n",
       "      <th>Event</th>\n",
       "      <th>Medal</th>\n",
       "    </tr>\n",
       "  </thead>\n",
       "  <tbody>\n",
       "    <tr>\n",
       "      <th>505</th>\n",
       "      <td>281</td>\n",
       "      <td>S. Abdul Hamid</td>\n",
       "      <td>M</td>\n",
       "      <td>25.556898</td>\n",
       "      <td>175.33897</td>\n",
       "      <td>70.702393</td>\n",
       "      <td>India</td>\n",
       "      <td>IND</td>\n",
       "      <td>1928 Summer</td>\n",
       "      <td>1928</td>\n",
       "      <td>Summer</td>\n",
       "      <td>Amsterdam</td>\n",
       "      <td>Athletics</td>\n",
       "      <td>Athletics Men's 110 metres Hurdles</td>\n",
       "      <td>NaN</td>\n",
       "    </tr>\n",
       "    <tr>\n",
       "      <th>506</th>\n",
       "      <td>281</td>\n",
       "      <td>S. Abdul Hamid</td>\n",
       "      <td>M</td>\n",
       "      <td>25.556898</td>\n",
       "      <td>175.33897</td>\n",
       "      <td>70.702393</td>\n",
       "      <td>India</td>\n",
       "      <td>IND</td>\n",
       "      <td>1928 Summer</td>\n",
       "      <td>1928</td>\n",
       "      <td>Summer</td>\n",
       "      <td>Amsterdam</td>\n",
       "      <td>Athletics</td>\n",
       "      <td>Athletics Men's 400 metres Hurdles</td>\n",
       "      <td>NaN</td>\n",
       "    </tr>\n",
       "    <tr>\n",
       "      <th>895</th>\n",
       "      <td>512</td>\n",
       "      <td>Shiny Kurisingal Abraham-Wilson</td>\n",
       "      <td>F</td>\n",
       "      <td>19.000000</td>\n",
       "      <td>167.00000</td>\n",
       "      <td>53.000000</td>\n",
       "      <td>India</td>\n",
       "      <td>IND</td>\n",
       "      <td>1984 Summer</td>\n",
       "      <td>1984</td>\n",
       "      <td>Summer</td>\n",
       "      <td>Los Angeles</td>\n",
       "      <td>Athletics</td>\n",
       "      <td>Athletics Women's 800 metres</td>\n",
       "      <td>NaN</td>\n",
       "    </tr>\n",
       "    <tr>\n",
       "      <th>896</th>\n",
       "      <td>512</td>\n",
       "      <td>Shiny Kurisingal Abraham-Wilson</td>\n",
       "      <td>F</td>\n",
       "      <td>19.000000</td>\n",
       "      <td>167.00000</td>\n",
       "      <td>53.000000</td>\n",
       "      <td>India</td>\n",
       "      <td>IND</td>\n",
       "      <td>1984 Summer</td>\n",
       "      <td>1984</td>\n",
       "      <td>Summer</td>\n",
       "      <td>Los Angeles</td>\n",
       "      <td>Athletics</td>\n",
       "      <td>Athletics Women's 4 x 400 metres Relay</td>\n",
       "      <td>NaN</td>\n",
       "    </tr>\n",
       "    <tr>\n",
       "      <th>897</th>\n",
       "      <td>512</td>\n",
       "      <td>Shiny Kurisingal Abraham-Wilson</td>\n",
       "      <td>F</td>\n",
       "      <td>23.000000</td>\n",
       "      <td>167.00000</td>\n",
       "      <td>53.000000</td>\n",
       "      <td>India</td>\n",
       "      <td>IND</td>\n",
       "      <td>1988 Summer</td>\n",
       "      <td>1988</td>\n",
       "      <td>Summer</td>\n",
       "      <td>Seoul</td>\n",
       "      <td>Athletics</td>\n",
       "      <td>Athletics Women's 800 metres</td>\n",
       "      <td>NaN</td>\n",
       "    </tr>\n",
       "    <tr>\n",
       "      <th>...</th>\n",
       "      <td>...</td>\n",
       "      <td>...</td>\n",
       "      <td>...</td>\n",
       "      <td>...</td>\n",
       "      <td>...</td>\n",
       "      <td>...</td>\n",
       "      <td>...</td>\n",
       "      <td>...</td>\n",
       "      <td>...</td>\n",
       "      <td>...</td>\n",
       "      <td>...</td>\n",
       "      <td>...</td>\n",
       "      <td>...</td>\n",
       "      <td>...</td>\n",
       "      <td>...</td>\n",
       "    </tr>\n",
       "    <tr>\n",
       "      <th>264139</th>\n",
       "      <td>132177</td>\n",
       "      <td>Mohammad Anas Yahiya</td>\n",
       "      <td>M</td>\n",
       "      <td>21.000000</td>\n",
       "      <td>177.00000</td>\n",
       "      <td>69.000000</td>\n",
       "      <td>India</td>\n",
       "      <td>IND</td>\n",
       "      <td>2016 Summer</td>\n",
       "      <td>2016</td>\n",
       "      <td>Summer</td>\n",
       "      <td>Rio de Janeiro</td>\n",
       "      <td>Athletics</td>\n",
       "      <td>Athletics Men's 4 x 400 metres Relay</td>\n",
       "      <td>NaN</td>\n",
       "    </tr>\n",
       "    <tr>\n",
       "      <th>265876</th>\n",
       "      <td>133029</td>\n",
       "      <td>Thyadathuvilla Chandrapillai \"T. C.\" Yohannan</td>\n",
       "      <td>M</td>\n",
       "      <td>29.000000</td>\n",
       "      <td>174.00000</td>\n",
       "      <td>62.000000</td>\n",
       "      <td>India</td>\n",
       "      <td>IND</td>\n",
       "      <td>1976 Summer</td>\n",
       "      <td>1976</td>\n",
       "      <td>Summer</td>\n",
       "      <td>Montreal</td>\n",
       "      <td>Athletics</td>\n",
       "      <td>Athletics Men's Long Jump</td>\n",
       "      <td>NaN</td>\n",
       "    </tr>\n",
       "    <tr>\n",
       "      <th>266934</th>\n",
       "      <td>133554</td>\n",
       "      <td>Sayed Muhammad Yusuf</td>\n",
       "      <td>M</td>\n",
       "      <td>25.556898</td>\n",
       "      <td>175.33897</td>\n",
       "      <td>70.702393</td>\n",
       "      <td>India</td>\n",
       "      <td>IND</td>\n",
       "      <td>1928 Summer</td>\n",
       "      <td>1928</td>\n",
       "      <td>Summer</td>\n",
       "      <td>Amsterdam</td>\n",
       "      <td>Hockey</td>\n",
       "      <td>Hockey Men's Hockey</td>\n",
       "      <td>Gold</td>\n",
       "    </tr>\n",
       "    <tr>\n",
       "      <th>270912</th>\n",
       "      <td>135480</td>\n",
       "      <td>Geeta Zutshi</td>\n",
       "      <td>F</td>\n",
       "      <td>23.000000</td>\n",
       "      <td>167.00000</td>\n",
       "      <td>51.000000</td>\n",
       "      <td>India</td>\n",
       "      <td>IND</td>\n",
       "      <td>1980 Summer</td>\n",
       "      <td>1980</td>\n",
       "      <td>Summer</td>\n",
       "      <td>Moskva</td>\n",
       "      <td>Athletics</td>\n",
       "      <td>Athletics Women's 800 metres</td>\n",
       "      <td>NaN</td>\n",
       "    </tr>\n",
       "    <tr>\n",
       "      <th>270913</th>\n",
       "      <td>135480</td>\n",
       "      <td>Geeta Zutshi</td>\n",
       "      <td>F</td>\n",
       "      <td>27.000000</td>\n",
       "      <td>167.00000</td>\n",
       "      <td>51.000000</td>\n",
       "      <td>India</td>\n",
       "      <td>IND</td>\n",
       "      <td>1984 Summer</td>\n",
       "      <td>1984</td>\n",
       "      <td>Summer</td>\n",
       "      <td>Los Angeles</td>\n",
       "      <td>Athletics</td>\n",
       "      <td>Athletics Women's 3,000 metres</td>\n",
       "      <td>NaN</td>\n",
       "    </tr>\n",
       "  </tbody>\n",
       "</table>\n",
       "<p>1400 rows × 15 columns</p>\n",
       "</div>"
      ],
      "text/plain": [
       "            ID                                           Name Sex        Age  \\\n",
       "505        281                                 S. Abdul Hamid   M  25.556898   \n",
       "506        281                                 S. Abdul Hamid   M  25.556898   \n",
       "895        512                Shiny Kurisingal Abraham-Wilson   F  19.000000   \n",
       "896        512                Shiny Kurisingal Abraham-Wilson   F  19.000000   \n",
       "897        512                Shiny Kurisingal Abraham-Wilson   F  23.000000   \n",
       "...        ...                                            ...  ..        ...   \n",
       "264139  132177                           Mohammad Anas Yahiya   M  21.000000   \n",
       "265876  133029  Thyadathuvilla Chandrapillai \"T. C.\" Yohannan   M  29.000000   \n",
       "266934  133554                           Sayed Muhammad Yusuf   M  25.556898   \n",
       "270912  135480                                   Geeta Zutshi   F  23.000000   \n",
       "270913  135480                                   Geeta Zutshi   F  27.000000   \n",
       "\n",
       "           Height     Weight   Team  NOC        Games  Year  Season  \\\n",
       "505     175.33897  70.702393  India  IND  1928 Summer  1928  Summer   \n",
       "506     175.33897  70.702393  India  IND  1928 Summer  1928  Summer   \n",
       "895     167.00000  53.000000  India  IND  1984 Summer  1984  Summer   \n",
       "896     167.00000  53.000000  India  IND  1984 Summer  1984  Summer   \n",
       "897     167.00000  53.000000  India  IND  1988 Summer  1988  Summer   \n",
       "...           ...        ...    ...  ...          ...   ...     ...   \n",
       "264139  177.00000  69.000000  India  IND  2016 Summer  2016  Summer   \n",
       "265876  174.00000  62.000000  India  IND  1976 Summer  1976  Summer   \n",
       "266934  175.33897  70.702393  India  IND  1928 Summer  1928  Summer   \n",
       "270912  167.00000  51.000000  India  IND  1980 Summer  1980  Summer   \n",
       "270913  167.00000  51.000000  India  IND  1984 Summer  1984  Summer   \n",
       "\n",
       "                  City      Sport                                   Event  \\\n",
       "505          Amsterdam  Athletics      Athletics Men's 110 metres Hurdles   \n",
       "506          Amsterdam  Athletics      Athletics Men's 400 metres Hurdles   \n",
       "895        Los Angeles  Athletics            Athletics Women's 800 metres   \n",
       "896        Los Angeles  Athletics  Athletics Women's 4 x 400 metres Relay   \n",
       "897              Seoul  Athletics            Athletics Women's 800 metres   \n",
       "...                ...        ...                                     ...   \n",
       "264139  Rio de Janeiro  Athletics    Athletics Men's 4 x 400 metres Relay   \n",
       "265876        Montreal  Athletics               Athletics Men's Long Jump   \n",
       "266934       Amsterdam     Hockey                     Hockey Men's Hockey   \n",
       "270912          Moskva  Athletics            Athletics Women's 800 metres   \n",
       "270913     Los Angeles  Athletics          Athletics Women's 3,000 metres   \n",
       "\n",
       "       Medal  \n",
       "505      NaN  \n",
       "506      NaN  \n",
       "895      NaN  \n",
       "896      NaN  \n",
       "897      NaN  \n",
       "...      ...  \n",
       "264139   NaN  \n",
       "265876   NaN  \n",
       "266934  Gold  \n",
       "270912   NaN  \n",
       "270913   NaN  \n",
       "\n",
       "[1400 rows x 15 columns]"
      ]
     },
     "execution_count": 306,
     "metadata": {},
     "output_type": "execute_result"
    }
   ],
   "source": [
    "data[data['Team']== 'India']"
   ]
  },
  {
   "cell_type": "code",
   "execution_count": 314,
   "id": "ca3b77f8-210e-472f-945e-874a0c848530",
   "metadata": {},
   "outputs": [],
   "source": [
    "india_medal=df_india.groupby('Year')['Medal'].count()"
   ]
  },
  {
   "cell_type": "code",
   "execution_count": 322,
   "id": "1dd8c55c-b639-4f28-9d19-b7c7904736f7",
   "metadata": {},
   "outputs": [
    {
     "data": {
      "text/plain": [
       "Series([], Name: Medal, dtype: int64)"
      ]
     },
     "execution_count": 322,
     "metadata": {},
     "output_type": "execute_result"
    }
   ],
   "source": [
    "india_medal"
   ]
  },
  {
   "cell_type": "code",
   "execution_count": 329,
   "id": "13534467-faf3-4fdc-98eb-93670affb68d",
   "metadata": {},
   "outputs": [
    {
     "data": {
      "text/plain": [
       "Index([], dtype='int64', name='Year')"
      ]
     },
     "execution_count": 329,
     "metadata": {},
     "output_type": "execute_result"
    }
   ],
   "source": [
    "india_medal.index"
   ]
  },
  {
   "cell_type": "code",
   "execution_count": 282,
   "id": "5cb18163-581b-47c4-952d-eb6cb9abda4b",
   "metadata": {},
   "outputs": [
    {
     "data": {
      "text/plain": [
       "array([], dtype=int64)"
      ]
     },
     "execution_count": 282,
     "metadata": {},
     "output_type": "execute_result"
    }
   ],
   "source": [
    "india_medal.values"
   ]
  },
  {
   "cell_type": "code",
   "execution_count": 324,
   "id": "ce2b08af-69d1-4f08-8452-8201f8680d52",
   "metadata": {},
   "outputs": [
    {
     "data": {
      "text/plain": [
       "<Axes: >"
      ]
     },
     "execution_count": 324,
     "metadata": {},
     "output_type": "execute_result"
    },
    {
     "data": {
      "image/png": "[encoded data removed]",
      "text/plain": [
       "<Figure size 640x480 with 1 Axes>"
      ]
     },
     "metadata": {},
     "output_type": "display_data"
    }
   ],
   "source": [
    "sns.lineplot(x=india_medal.index,y=india_medal.values)"
   ]
  },
  {
   "cell_type": "code",
   "execution_count": null,
   "id": "a8f89864-0bda-424e-9f0c-34c29a70b124",
   "metadata": {},
   "outputs": [],
   "source": [
    "### NUMERICAL-CATEGORICAL RELATIONSHIPS"
   ]
  },
  {
   "cell_type": "code",
   "execution_count": null,
   "id": "b7c0b70f-1a17-48da-ba3f-c2ed15df4a93",
   "metadata": {},
   "outputs": [],
   "source": [
    "### DISPLAY THE TOP 10 ATHLETES BY MEDALS WON\n"
   ]
  },
  {
   "cell_type": "code",
   "execution_count": 331,
   "id": "d824dc0a-e43a-44da-b475-fec7d81ebc32",
   "metadata": {},
   "outputs": [
    {
     "data": {
      "text/html": [
       "<div>\n",
       "<style scoped>\n",
       "    .dataframe tbody tr th:only-of-type {\n",
       "        vertical-align: middle;\n",
       "    }\n",
       "\n",
       "    .dataframe tbody tr th {\n",
       "        vertical-align: top;\n",
       "    }\n",
       "\n",
       "    .dataframe thead th {\n",
       "        text-align: right;\n",
       "    }\n",
       "</style>\n",
       "<table border=\"1\" class=\"dataframe\">\n",
       "  <thead>\n",
       "    <tr style=\"text-align: right;\">\n",
       "      <th></th>\n",
       "      <th>ID</th>\n",
       "      <th>Name</th>\n",
       "      <th>Sex</th>\n",
       "      <th>Age</th>\n",
       "      <th>Height</th>\n",
       "      <th>Weight</th>\n",
       "      <th>Team</th>\n",
       "      <th>NOC</th>\n",
       "      <th>Games</th>\n",
       "      <th>Year</th>\n",
       "      <th>Season</th>\n",
       "      <th>City</th>\n",
       "      <th>Sport</th>\n",
       "      <th>Event</th>\n",
       "      <th>Medal</th>\n",
       "    </tr>\n",
       "  </thead>\n",
       "  <tbody>\n",
       "    <tr>\n",
       "      <th>0</th>\n",
       "      <td>1</td>\n",
       "      <td>A Dijiang</td>\n",
       "      <td>M</td>\n",
       "      <td>24.0</td>\n",
       "      <td>180.0</td>\n",
       "      <td>80.0</td>\n",
       "      <td>China</td>\n",
       "      <td>CHN</td>\n",
       "      <td>1992 Summer</td>\n",
       "      <td>1992</td>\n",
       "      <td>Summer</td>\n",
       "      <td>Barcelona</td>\n",
       "      <td>Basketball</td>\n",
       "      <td>Basketball Men's Basketball</td>\n",
       "      <td>NaN</td>\n",
       "    </tr>\n",
       "  </tbody>\n",
       "</table>\n",
       "</div>"
      ],
      "text/plain": [
       "   ID       Name Sex   Age  Height  Weight   Team  NOC        Games  Year  \\\n",
       "0   1  A Dijiang   M  24.0   180.0    80.0  China  CHN  1992 Summer  1992   \n",
       "\n",
       "   Season       City       Sport                        Event Medal  \n",
       "0  Summer  Barcelona  Basketball  Basketball Men's Basketball   NaN  "
      ]
     },
     "execution_count": 331,
     "metadata": {},
     "output_type": "execute_result"
    }
   ],
   "source": [
    "data.head(1)"
   ]
  },
  {
   "cell_type": "code",
   "execution_count": 335,
   "id": "d8b30e5b-1624-4e8e-9f4d-770680ba1fba",
   "metadata": {},
   "outputs": [],
   "source": [
    "medal_counts=data['Name'].value_counts().reset_index()"
   ]
  },
  {
   "cell_type": "markdown",
   "id": "d85b28cc-b6aa-46bb-98b0-aa17d609d865",
   "metadata": {},
   "source": []
  },
  {
   "cell_type": "code",
   "execution_count": 337,
   "id": "aa5996fb-2ffe-4006-b66d-7452b0a78f64",
   "metadata": {},
   "outputs": [],
   "source": [
    "medal_counts.columns=['athlete','Medal_count']"
   ]
  },
  {
   "cell_type": "code",
   "execution_count": 339,
   "id": "517ae950-4ca8-4bb6-807b-d5a90a1baef5",
   "metadata": {},
   "outputs": [
    {
     "data": {
      "text/html": [
       "<div>\n",
       "<style scoped>\n",
       "    .dataframe tbody tr th:only-of-type {\n",
       "        vertical-align: middle;\n",
       "    }\n",
       "\n",
       "    .dataframe tbody tr th {\n",
       "        vertical-align: top;\n",
       "    }\n",
       "\n",
       "    .dataframe thead th {\n",
       "        text-align: right;\n",
       "    }\n",
       "</style>\n",
       "<table border=\"1\" class=\"dataframe\">\n",
       "  <thead>\n",
       "    <tr style=\"text-align: right;\">\n",
       "      <th></th>\n",
       "      <th>athlete</th>\n",
       "      <th>Medal_count</th>\n",
       "    </tr>\n",
       "  </thead>\n",
       "  <tbody>\n",
       "    <tr>\n",
       "      <th>0</th>\n",
       "      <td>Heikki Ilmari Savolainen</td>\n",
       "      <td>39</td>\n",
       "    </tr>\n",
       "    <tr>\n",
       "      <th>1</th>\n",
       "      <td>Joseph \"Josy\" Stoffel</td>\n",
       "      <td>38</td>\n",
       "    </tr>\n",
       "    <tr>\n",
       "      <th>2</th>\n",
       "      <td>Ioannis Theofilakis</td>\n",
       "      <td>36</td>\n",
       "    </tr>\n",
       "    <tr>\n",
       "      <th>3</th>\n",
       "      <td>Takashi Ono</td>\n",
       "      <td>33</td>\n",
       "    </tr>\n",
       "    <tr>\n",
       "      <th>4</th>\n",
       "      <td>Alexandros Theofilakis</td>\n",
       "      <td>32</td>\n",
       "    </tr>\n",
       "    <tr>\n",
       "      <th>...</th>\n",
       "      <td>...</td>\n",
       "      <td>...</td>\n",
       "    </tr>\n",
       "    <tr>\n",
       "      <th>134727</th>\n",
       "      <td>Yuliya Anatolivna Kalina</td>\n",
       "      <td>1</td>\n",
       "    </tr>\n",
       "    <tr>\n",
       "      <th>134728</th>\n",
       "      <td>Milan Kalina</td>\n",
       "      <td>1</td>\n",
       "    </tr>\n",
       "    <tr>\n",
       "      <th>134729</th>\n",
       "      <td>Jozef Kalina</td>\n",
       "      <td>1</td>\n",
       "    </tr>\n",
       "    <tr>\n",
       "      <th>134730</th>\n",
       "      <td>estmr Kalina</td>\n",
       "      <td>1</td>\n",
       "    </tr>\n",
       "    <tr>\n",
       "      <th>134731</th>\n",
       "      <td>Pierre-Georges LeClercq</td>\n",
       "      <td>1</td>\n",
       "    </tr>\n",
       "  </tbody>\n",
       "</table>\n",
       "<p>134732 rows × 2 columns</p>\n",
       "</div>"
      ],
      "text/plain": [
       "                         athlete  Medal_count\n",
       "0       Heikki Ilmari Savolainen           39\n",
       "1          Joseph \"Josy\" Stoffel           38\n",
       "2            Ioannis Theofilakis           36\n",
       "3                    Takashi Ono           33\n",
       "4         Alexandros Theofilakis           32\n",
       "...                          ...          ...\n",
       "134727  Yuliya Anatolivna Kalina            1\n",
       "134728              Milan Kalina            1\n",
       "134729              Jozef Kalina            1\n",
       "134730              estmr Kalina            1\n",
       "134731   Pierre-Georges LeClercq            1\n",
       "\n",
       "[134732 rows x 2 columns]"
      ]
     },
     "execution_count": 339,
     "metadata": {},
     "output_type": "execute_result"
    }
   ],
   "source": [
    "medal_counts"
   ]
  },
  {
   "cell_type": "code",
   "execution_count": 346,
   "id": "3f2e6f02-cffc-4009-9778-a1b96ac68b93",
   "metadata": {},
   "outputs": [
    {
     "data": {
      "image/png": "[encoded data removed]",
      "text/plain": [
       "<Figure size 640x480 with 1 Axes>"
      ]
     },
     "metadata": {},
     "output_type": "display_data"
    }
   ],
   "source": [
    "\n",
    "sns.barplot(x='Medal_count', y='athlete', data=medal_counts.head(10))\n",
    "plt.show()\n"
   ]
  },
  {
   "cell_type": "code",
   "execution_count": null,
   "id": "57d4ae4f-9fc6-41dd-80b4-5e91d82ac7e4",
   "metadata": {},
   "outputs": [],
   "source": [
    "## SORT THE MEDAL COUNTX PER CITY BASED ON THE TOTAL NUMBER OF MEDALS (BRONZE ,SILVER,GOLD)"
   ]
  },
  {
   "cell_type": "code",
   "execution_count": 353,
   "id": "f883045d-7545-4819-834f-1f992e9b92ba",
   "metadata": {},
   "outputs": [],
   "source": [
    "medal_count = data.groupby(['City','Medal']).size().unstack()"
   ]
  },
  {
   "cell_type": "code",
   "execution_count": 357,
   "id": "8af57652-430c-4167-bfe7-035e3d2e250f",
   "metadata": {},
   "outputs": [],
   "source": [
    "medal_count['Total']=medal_count[['Bronze','Gold','Silver']].sum(axis=1)"
   ]
  },
  {
   "cell_type": "code",
   "execution_count": 361,
   "id": "aaca4a0c-8dec-466e-aa17-637aa7a22cba",
   "metadata": {},
   "outputs": [
    {
     "data": {
      "text/html": [
       "<div>\n",
       "<style scoped>\n",
       "    .dataframe tbody tr th:only-of-type {\n",
       "        vertical-align: middle;\n",
       "    }\n",
       "\n",
       "    .dataframe tbody tr th {\n",
       "        vertical-align: top;\n",
       "    }\n",
       "\n",
       "    .dataframe thead th {\n",
       "        text-align: right;\n",
       "    }\n",
       "</style>\n",
       "<table border=\"1\" class=\"dataframe\">\n",
       "  <thead>\n",
       "    <tr style=\"text-align: right;\">\n",
       "      <th>Medal</th>\n",
       "      <th>Bronze</th>\n",
       "      <th>Gold</th>\n",
       "      <th>Silver</th>\n",
       "      <th>Total</th>\n",
       "    </tr>\n",
       "    <tr>\n",
       "      <th>City</th>\n",
       "      <th></th>\n",
       "      <th></th>\n",
       "      <th></th>\n",
       "      <th></th>\n",
       "    </tr>\n",
       "  </thead>\n",
       "  <tbody>\n",
       "    <tr>\n",
       "      <th>London</th>\n",
       "      <td>1214</td>\n",
       "      <td>1215</td>\n",
       "      <td>1195</td>\n",
       "      <td>3624</td>\n",
       "    </tr>\n",
       "    <tr>\n",
       "      <th>Athina</th>\n",
       "      <td>860</td>\n",
       "      <td>883</td>\n",
       "      <td>859</td>\n",
       "      <td>2602</td>\n",
       "    </tr>\n",
       "    <tr>\n",
       "      <th>Los Angeles</th>\n",
       "      <td>706</td>\n",
       "      <td>726</td>\n",
       "      <td>691</td>\n",
       "      <td>2123</td>\n",
       "    </tr>\n",
       "    <tr>\n",
       "      <th>Beijing</th>\n",
       "      <td>710</td>\n",
       "      <td>671</td>\n",
       "      <td>667</td>\n",
       "      <td>2048</td>\n",
       "    </tr>\n",
       "    <tr>\n",
       "      <th>Rio de Janeiro</th>\n",
       "      <td>703</td>\n",
       "      <td>665</td>\n",
       "      <td>655</td>\n",
       "      <td>2023</td>\n",
       "    </tr>\n",
       "    <tr>\n",
       "      <th>Sydney</th>\n",
       "      <td>680</td>\n",
       "      <td>663</td>\n",
       "      <td>661</td>\n",
       "      <td>2004</td>\n",
       "    </tr>\n",
       "    <tr>\n",
       "      <th>Atlanta</th>\n",
       "      <td>629</td>\n",
       "      <td>608</td>\n",
       "      <td>605</td>\n",
       "      <td>1842</td>\n",
       "    </tr>\n",
       "    <tr>\n",
       "      <th>Barcelona</th>\n",
       "      <td>604</td>\n",
       "      <td>559</td>\n",
       "      <td>549</td>\n",
       "      <td>1712</td>\n",
       "    </tr>\n",
       "    <tr>\n",
       "      <th>Seoul</th>\n",
       "      <td>549</td>\n",
       "      <td>520</td>\n",
       "      <td>513</td>\n",
       "      <td>1582</td>\n",
       "    </tr>\n",
       "    <tr>\n",
       "      <th>Paris</th>\n",
       "      <td>449</td>\n",
       "      <td>475</td>\n",
       "      <td>501</td>\n",
       "      <td>1425</td>\n",
       "    </tr>\n",
       "    <tr>\n",
       "      <th>Moskva</th>\n",
       "      <td>469</td>\n",
       "      <td>457</td>\n",
       "      <td>458</td>\n",
       "      <td>1384</td>\n",
       "    </tr>\n",
       "    <tr>\n",
       "      <th>Montreal</th>\n",
       "      <td>448</td>\n",
       "      <td>438</td>\n",
       "      <td>434</td>\n",
       "      <td>1320</td>\n",
       "    </tr>\n",
       "    <tr>\n",
       "      <th>Antwerpen</th>\n",
       "      <td>367</td>\n",
       "      <td>493</td>\n",
       "      <td>448</td>\n",
       "      <td>1308</td>\n",
       "    </tr>\n",
       "    <tr>\n",
       "      <th>Munich</th>\n",
       "      <td>419</td>\n",
       "      <td>404</td>\n",
       "      <td>392</td>\n",
       "      <td>1215</td>\n",
       "    </tr>\n",
       "    <tr>\n",
       "      <th>Mexico City</th>\n",
       "      <td>358</td>\n",
       "      <td>359</td>\n",
       "      <td>340</td>\n",
       "      <td>1057</td>\n",
       "    </tr>\n",
       "    <tr>\n",
       "      <th>Tokyo</th>\n",
       "      <td>343</td>\n",
       "      <td>347</td>\n",
       "      <td>339</td>\n",
       "      <td>1029</td>\n",
       "    </tr>\n",
       "    <tr>\n",
       "      <th>Stockholm</th>\n",
       "      <td>312</td>\n",
       "      <td>338</td>\n",
       "      <td>327</td>\n",
       "      <td>977</td>\n",
       "    </tr>\n",
       "    <tr>\n",
       "      <th>Berlin</th>\n",
       "      <td>295</td>\n",
       "      <td>312</td>\n",
       "      <td>310</td>\n",
       "      <td>917</td>\n",
       "    </tr>\n",
       "    <tr>\n",
       "      <th>Roma</th>\n",
       "      <td>308</td>\n",
       "      <td>309</td>\n",
       "      <td>294</td>\n",
       "      <td>911</td>\n",
       "    </tr>\n",
       "    <tr>\n",
       "      <th>Helsinki</th>\n",
       "      <td>300</td>\n",
       "      <td>306</td>\n",
       "      <td>291</td>\n",
       "      <td>897</td>\n",
       "    </tr>\n",
       "    <tr>\n",
       "      <th>Melbourne</th>\n",
       "      <td>286</td>\n",
       "      <td>290</td>\n",
       "      <td>281</td>\n",
       "      <td>857</td>\n",
       "    </tr>\n",
       "    <tr>\n",
       "      <th>Amsterdam</th>\n",
       "      <td>250</td>\n",
       "      <td>245</td>\n",
       "      <td>239</td>\n",
       "      <td>734</td>\n",
       "    </tr>\n",
       "    <tr>\n",
       "      <th>Sochi</th>\n",
       "      <td>198</td>\n",
       "      <td>202</td>\n",
       "      <td>197</td>\n",
       "      <td>597</td>\n",
       "    </tr>\n",
       "    <tr>\n",
       "      <th>Torino</th>\n",
       "      <td>175</td>\n",
       "      <td>176</td>\n",
       "      <td>175</td>\n",
       "      <td>526</td>\n",
       "    </tr>\n",
       "    <tr>\n",
       "      <th>Vancouver</th>\n",
       "      <td>171</td>\n",
       "      <td>174</td>\n",
       "      <td>175</td>\n",
       "      <td>520</td>\n",
       "    </tr>\n",
       "    <tr>\n",
       "      <th>St. Louis</th>\n",
       "      <td>150</td>\n",
       "      <td>173</td>\n",
       "      <td>163</td>\n",
       "      <td>486</td>\n",
       "    </tr>\n",
       "    <tr>\n",
       "      <th>Salt Lake City</th>\n",
       "      <td>159</td>\n",
       "      <td>162</td>\n",
       "      <td>157</td>\n",
       "      <td>478</td>\n",
       "    </tr>\n",
       "    <tr>\n",
       "      <th>Nagano</th>\n",
       "      <td>150</td>\n",
       "      <td>145</td>\n",
       "      <td>145</td>\n",
       "      <td>440</td>\n",
       "    </tr>\n",
       "    <tr>\n",
       "      <th>Innsbruck</th>\n",
       "      <td>128</td>\n",
       "      <td>131</td>\n",
       "      <td>138</td>\n",
       "      <td>397</td>\n",
       "    </tr>\n",
       "    <tr>\n",
       "      <th>Lillehammer</th>\n",
       "      <td>112</td>\n",
       "      <td>110</td>\n",
       "      <td>109</td>\n",
       "      <td>331</td>\n",
       "    </tr>\n",
       "    <tr>\n",
       "      <th>Albertville</th>\n",
       "      <td>106</td>\n",
       "      <td>104</td>\n",
       "      <td>108</td>\n",
       "      <td>318</td>\n",
       "    </tr>\n",
       "    <tr>\n",
       "      <th>Lake Placid</th>\n",
       "      <td>101</td>\n",
       "      <td>104</td>\n",
       "      <td>105</td>\n",
       "      <td>310</td>\n",
       "    </tr>\n",
       "    <tr>\n",
       "      <th>Calgary</th>\n",
       "      <td>88</td>\n",
       "      <td>87</td>\n",
       "      <td>88</td>\n",
       "      <td>263</td>\n",
       "    </tr>\n",
       "    <tr>\n",
       "      <th>Sankt Moritz</th>\n",
       "      <td>77</td>\n",
       "      <td>71</td>\n",
       "      <td>76</td>\n",
       "      <td>224</td>\n",
       "    </tr>\n",
       "    <tr>\n",
       "      <th>Sarajevo</th>\n",
       "      <td>74</td>\n",
       "      <td>74</td>\n",
       "      <td>74</td>\n",
       "      <td>222</td>\n",
       "    </tr>\n",
       "    <tr>\n",
       "      <th>Sapporo</th>\n",
       "      <td>66</td>\n",
       "      <td>70</td>\n",
       "      <td>63</td>\n",
       "      <td>199</td>\n",
       "    </tr>\n",
       "    <tr>\n",
       "      <th>Grenoble</th>\n",
       "      <td>63</td>\n",
       "      <td>66</td>\n",
       "      <td>70</td>\n",
       "      <td>199</td>\n",
       "    </tr>\n",
       "    <tr>\n",
       "      <th>Cortina d'Ampezzo</th>\n",
       "      <td>50</td>\n",
       "      <td>51</td>\n",
       "      <td>49</td>\n",
       "      <td>150</td>\n",
       "    </tr>\n",
       "    <tr>\n",
       "      <th>Squaw Valley</th>\n",
       "      <td>49</td>\n",
       "      <td>50</td>\n",
       "      <td>48</td>\n",
       "      <td>147</td>\n",
       "    </tr>\n",
       "    <tr>\n",
       "      <th>Oslo</th>\n",
       "      <td>47</td>\n",
       "      <td>45</td>\n",
       "      <td>44</td>\n",
       "      <td>136</td>\n",
       "    </tr>\n",
       "    <tr>\n",
       "      <th>Chamonix</th>\n",
       "      <td>37</td>\n",
       "      <td>55</td>\n",
       "      <td>38</td>\n",
       "      <td>130</td>\n",
       "    </tr>\n",
       "    <tr>\n",
       "      <th>Garmisch-Partenkirchen</th>\n",
       "      <td>35</td>\n",
       "      <td>36</td>\n",
       "      <td>37</td>\n",
       "      <td>108</td>\n",
       "    </tr>\n",
       "  </tbody>\n",
       "</table>\n",
       "</div>"
      ],
      "text/plain": [
       "Medal                   Bronze  Gold  Silver  Total\n",
       "City                                               \n",
       "London                    1214  1215    1195   3624\n",
       "Athina                     860   883     859   2602\n",
       "Los Angeles                706   726     691   2123\n",
       "Beijing                    710   671     667   2048\n",
       "Rio de Janeiro             703   665     655   2023\n",
       "Sydney                     680   663     661   2004\n",
       "Atlanta                    629   608     605   1842\n",
       "Barcelona                  604   559     549   1712\n",
       "Seoul                      549   520     513   1582\n",
       "Paris                      449   475     501   1425\n",
       "Moskva                     469   457     458   1384\n",
       "Montreal                   448   438     434   1320\n",
       "Antwerpen                  367   493     448   1308\n",
       "Munich                     419   404     392   1215\n",
       "Mexico City                358   359     340   1057\n",
       "Tokyo                      343   347     339   1029\n",
       "Stockholm                  312   338     327    977\n",
       "Berlin                     295   312     310    917\n",
       "Roma                       308   309     294    911\n",
       "Helsinki                   300   306     291    897\n",
       "Melbourne                  286   290     281    857\n",
       "Amsterdam                  250   245     239    734\n",
       "Sochi                      198   202     197    597\n",
       "Torino                     175   176     175    526\n",
       "Vancouver                  171   174     175    520\n",
       "St. Louis                  150   173     163    486\n",
       "Salt Lake City             159   162     157    478\n",
       "Nagano                     150   145     145    440\n",
       "Innsbruck                  128   131     138    397\n",
       "Lillehammer                112   110     109    331\n",
       "Albertville                106   104     108    318\n",
       "Lake Placid                101   104     105    310\n",
       "Calgary                     88    87      88    263\n",
       "Sankt Moritz                77    71      76    224\n",
       "Sarajevo                    74    74      74    222\n",
       "Sapporo                     66    70      63    199\n",
       "Grenoble                    63    66      70    199\n",
       "Cortina d'Ampezzo           50    51      49    150\n",
       "Squaw Valley                49    50      48    147\n",
       "Oslo                        47    45      44    136\n",
       "Chamonix                    37    55      38    130\n",
       "Garmisch-Partenkirchen      35    36      37    108"
      ]
     },
     "execution_count": 361,
     "metadata": {},
     "output_type": "execute_result"
    }
   ],
   "source": [
    "medal_count.sort_values(by='Total',ascending=False)"
   ]
  },
  {
   "cell_type": "raw",
   "id": "4b5137ef-dde3-4586-9092-6edf39f9ec0d",
   "metadata": {},
   "source": []
  },
  {
   "cell_type": "code",
   "execution_count": null,
   "id": "ec26217d-c87b-42b0-b3cb-49b7d5a93318",
   "metadata": {},
   "outputs": [],
   "source": []
  },
  {
   "cell_type": "code",
   "execution_count": null,
   "id": "7b1adb4a-4eaa-484e-9b09-2e852ae3f815",
   "metadata": {},
   "outputs": [],
   "source": []
  },
  {
   "cell_type": "code",
   "execution_count": null,
   "id": "61236523-d945-4913-8c48-795124e677f2",
   "metadata": {},
   "outputs": [],
   "source": []
  },
  {
   "cell_type": "code",
   "execution_count": null,
   "id": "a20fcf81-df6f-48b5-8566-1745872022ee",
   "metadata": {},
   "outputs": [],
   "source": []
  },
  {
   "cell_type": "code",
   "execution_count": null,
   "id": "d5bf7667-cf86-4745-9198-c7075c6f5104",
   "metadata": {},
   "outputs": [],
   "source": []
  },
  {
   "cell_type": "code",
   "execution_count": null,
   "id": "8f86e38a-a228-42c0-adc1-98a3f494b94b",
   "metadata": {},
   "outputs": [],
   "source": []
  },
  {
   "cell_type": "code",
   "execution_count": null,
   "id": "be18dc72-178d-4e73-b576-f6dea0c27b46",
   "metadata": {},
   "outputs": [],
   "source": []
  }
 ],
 "metadata": {
  "kernelspec": {
   "display_name": "Python [conda env:base] *",
   "language": "python",
   "name": "conda-base-py"
  },
  "language_info": {
   "codemirror_mode": {
    "name": "ipython",
    "version": 3
   },
   "file_extension": ".py",
   "mimetype": "text/x-python",
   "name": "python",
   "nbconvert_exporter": "python",
   "pygments_lexer": "ipython3",
   "version": "3.12.7"
  }
 },
 "nbformat": 4,
 "nbformat_minor": 5
}
